{
  "cells": [
    {
      "cell_type": "markdown",
      "metadata": {
        "id": "DYmAvdcvmxHc"
      },
      "source": [
        "# Modele - Implementacja </br>\n",
        "\n",
        "- Barbara Pobiedzińska 400781\n",
        "- Tomasz Brania 400642\n",
        "- Marcin Biela 302959 </br>\n",
        "\n",
        "Grupa 1a"
      ]
    },
    {
      "cell_type": "code",
      "execution_count": 1,
      "metadata": {
        "id": "96Bo0vGSHjfH"
      },
      "outputs": [],
      "source": [
        "import numpy as np\n",
        "import pandas as pd\n",
        "import random\n",
        "import copy\n",
        "from typing import List"
      ]
    },
    {
      "cell_type": "markdown",
      "metadata": {
        "id": "5jT-KgWALv4w"
      },
      "source": []
    },
    {
      "cell_type": "markdown",
      "metadata": {
        "id": "SJuLUUAiHvvC"
      },
      "source": [
        "\n",
        "TODO  struktury danych:\n",
        "\n",
        "xn - stan “lodówki” na początku x0 = 0\n",
        "\n",
        "yn - decyzja czy w danym dniu idziemy na zakupy\n",
        "\n",
        "n - n-ty dzień\n",
        "\n",
        "an - ograniczenie pojemności plecaka w danym dniu\n",
        "\n",
        "b - prędkość zużywania zapasów\n",
        "\n",
        "ci - tabela wagi wartościowości\n",
        "\n",
        "N - ilość dni do ustalenia terminarza\n"
      ]
    },
    {
      "cell_type": "code",
      "execution_count": 2,
      "metadata": {
        "colab": {
          "base_uri": "https://localhost:8080/"
        },
        "id": "5Or4zmQhHuq3",
        "outputId": "2af5e649-112f-42ee-f301-ee365f9d09b2",
        "tags": []
      },
      "outputs": [
        {
          "name": "stdout",
          "output_type": "stream",
          "text": [
            "['Produkt1', 'Produkt2', 'Produkt3', 'Produkt4', 'Produkt5', 'Produkt6', 'Produkt7', 'Produkt8', 'Produkt9', 'Produkt10']\n"
          ]
        }
      ],
      "source": [
        "#dane\n",
        "n_records = 10\n",
        "\n",
        "tabela_produktow = [f\"Produkt{i+1}\" for i in range(n_records)]\n",
        "print(tabela_produktow)\n",
        "\n",
        "# tabele zczytywac z excela c(wartociowosc od wagi od czegos dodatkowego np kalorie)\n",
        "# ograniczenie plecaka tez (czy robic funkcje ktora wylicza ktore dni sa niehandlowe (niedziele i swieta))"
      ]
    },
    {
      "cell_type": "code",
      "execution_count": 3,
      "metadata": {
        "colab": {
          "base_uri": "https://localhost:8080/"
        },
        "id": "0Kq-4EqHNzHD",
        "outputId": "ec67743e-9074-4f7e-89e4-a19ef48655b7",
        "tags": []
      },
      "outputs": [
        {
          "name": "stdout",
          "output_type": "stream",
          "text": [
            "[ 617.  864.  450.  583. 1125.  774. 1295. 1062. 1186.  529.]\n",
            "[1 1 1 0 1 1 1 0 1 0]\n",
            "[0.09 0.06 0.3  0.02 0.18 0.28 0.41 0.39 0.19 0.22]\n"
          ]
        }
      ],
      "source": [
        "# tabela_wartosciowosc_kalorie = np.random.randint(low=400, high=1000, size=n_records)\n",
        "\n",
        "tabela_wartosciowosc_kalorie = np.round(np.random.normal(1000, 300, size=n_records))\n",
        "tabela_wartosciowosc_przydatnosc = np.random.randint(low=0, high=2, size=n_records)\n",
        "tabela_wag = np.round(np.random.random(n_records) * 0.7, 2)\n",
        "\n",
        "print(tabela_wartosciowosc_kalorie)\n",
        "print(tabela_wartosciowosc_przydatnosc)\n",
        "print(tabela_wag)"
      ]
    },
    {
      "cell_type": "markdown",
      "metadata": {
        "id": "P80-dK0xPCoe"
      },
      "source": [
        "# Dokumentacja danych odnoscie produktów\n",
        "\n",
        "Dane o produktach mamy przedstawione w DataFramie w postaci:</br>\n",
        " - [waga, kaloryczność, przydatność]"
      ]
    },
    {
      "cell_type": "code",
      "execution_count": 4,
      "metadata": {
        "colab": {
          "base_uri": "https://localhost:8080/",
          "height": 363
        },
        "id": "Di0PYDbfcCxf",
        "outputId": "3b0f06a6-211f-43d5-c6cf-18408e16c146"
      },
      "outputs": [
        {
          "data": {
            "text/html": [
              "<div>\n",
              "<style scoped>\n",
              "    .dataframe tbody tr th:only-of-type {\n",
              "        vertical-align: middle;\n",
              "    }\n",
              "\n",
              "    .dataframe tbody tr th {\n",
              "        vertical-align: top;\n",
              "    }\n",
              "\n",
              "    .dataframe thead th {\n",
              "        text-align: right;\n",
              "    }\n",
              "</style>\n",
              "<table border=\"1\" class=\"dataframe\">\n",
              "  <thead>\n",
              "    <tr style=\"text-align: right;\">\n",
              "      <th></th>\n",
              "      <th>waga</th>\n",
              "      <th>kaloryczność</th>\n",
              "      <th>przydatnosc</th>\n",
              "    </tr>\n",
              "  </thead>\n",
              "  <tbody>\n",
              "    <tr>\n",
              "      <th>Produkt1</th>\n",
              "      <td>0.09</td>\n",
              "      <td>617.0</td>\n",
              "      <td>1.0</td>\n",
              "    </tr>\n",
              "    <tr>\n",
              "      <th>Produkt2</th>\n",
              "      <td>0.06</td>\n",
              "      <td>864.0</td>\n",
              "      <td>1.0</td>\n",
              "    </tr>\n",
              "    <tr>\n",
              "      <th>Produkt3</th>\n",
              "      <td>0.30</td>\n",
              "      <td>450.0</td>\n",
              "      <td>1.0</td>\n",
              "    </tr>\n",
              "    <tr>\n",
              "      <th>Produkt4</th>\n",
              "      <td>0.02</td>\n",
              "      <td>583.0</td>\n",
              "      <td>0.0</td>\n",
              "    </tr>\n",
              "    <tr>\n",
              "      <th>Produkt5</th>\n",
              "      <td>0.18</td>\n",
              "      <td>1125.0</td>\n",
              "      <td>1.0</td>\n",
              "    </tr>\n",
              "    <tr>\n",
              "      <th>Produkt6</th>\n",
              "      <td>0.28</td>\n",
              "      <td>774.0</td>\n",
              "      <td>1.0</td>\n",
              "    </tr>\n",
              "    <tr>\n",
              "      <th>Produkt7</th>\n",
              "      <td>0.41</td>\n",
              "      <td>1295.0</td>\n",
              "      <td>1.0</td>\n",
              "    </tr>\n",
              "    <tr>\n",
              "      <th>Produkt8</th>\n",
              "      <td>0.39</td>\n",
              "      <td>1062.0</td>\n",
              "      <td>0.0</td>\n",
              "    </tr>\n",
              "    <tr>\n",
              "      <th>Produkt9</th>\n",
              "      <td>0.19</td>\n",
              "      <td>1186.0</td>\n",
              "      <td>1.0</td>\n",
              "    </tr>\n",
              "    <tr>\n",
              "      <th>Produkt10</th>\n",
              "      <td>0.22</td>\n",
              "      <td>529.0</td>\n",
              "      <td>0.0</td>\n",
              "    </tr>\n",
              "  </tbody>\n",
              "</table>\n",
              "</div>"
            ],
            "text/plain": [
              "           waga  kaloryczność  przydatnosc\n",
              "Produkt1   0.09         617.0          1.0\n",
              "Produkt2   0.06         864.0          1.0\n",
              "Produkt3   0.30         450.0          1.0\n",
              "Produkt4   0.02         583.0          0.0\n",
              "Produkt5   0.18        1125.0          1.0\n",
              "Produkt6   0.28         774.0          1.0\n",
              "Produkt7   0.41        1295.0          1.0\n",
              "Produkt8   0.39        1062.0          0.0\n",
              "Produkt9   0.19        1186.0          1.0\n",
              "Produkt10  0.22         529.0          0.0"
            ]
          },
          "execution_count": 4,
          "metadata": {},
          "output_type": "execute_result"
        }
      ],
      "source": [
        "tabela_merge = {}\n",
        "for i in range(len(tabela_produktow)):\n",
        "  tabela_merge[tabela_produktow[i]] = [tabela_wag[i], tabela_wartosciowosc_kalorie[i], tabela_wartosciowosc_przydatnosc[i]]\n",
        "\n",
        "# print(tabela_merge)\n",
        "\n",
        "df = pd.DataFrame(tabela_merge).transpose()\n",
        "df.rename(columns={0: \"waga\", 1: \"kaloryczność\", 2:\"przydatnosc\"})\n"
      ]
    },
    {
      "cell_type": "code",
      "execution_count": 5,
      "metadata": {
        "colab": {
          "base_uri": "https://localhost:8080/"
        },
        "id": "mb-fotoT7BY_",
        "outputId": "c149d553-2a3f-4818-8c29-2353384ac2af"
      },
      "outputs": [
        {
          "data": {
            "text/plain": [
              "array([[9.000e-02, 6.170e+02, 1.000e+00],\n",
              "       [6.000e-02, 8.640e+02, 1.000e+00],\n",
              "       [3.000e-01, 4.500e+02, 1.000e+00],\n",
              "       [2.000e-02, 5.830e+02, 0.000e+00],\n",
              "       [1.800e-01, 1.125e+03, 1.000e+00],\n",
              "       [2.800e-01, 7.740e+02, 1.000e+00],\n",
              "       [4.100e-01, 1.295e+03, 1.000e+00],\n",
              "       [3.900e-01, 1.062e+03, 0.000e+00],\n",
              "       [1.900e-01, 1.186e+03, 1.000e+00],\n",
              "       [2.200e-01, 5.290e+02, 0.000e+00]])"
            ]
          },
          "execution_count": 5,
          "metadata": {},
          "output_type": "execute_result"
        }
      ],
      "source": [
        "df.to_numpy()"
      ]
    },
    {
      "cell_type": "code",
      "execution_count": 6,
      "metadata": {
        "id": "mk6m20nFPyA-"
      },
      "outputs": [],
      "source": [
        "## Klasa opisująca stan lodówki w czasie\n",
        "# Posiada następujące metody: </br>\n",
        "# - __init__, która przyjmuje jako parametry terminarz oraz liste produktow\n",
        "# - generate_initial_solution - generuje rozwiązanie początkowe uwzględniając \n",
        "# ograniczenia dotyczące maksymalnej dopuszczalnej pojemnosci lodowki i plecaka\n",
        "# - check_kalorie - Jeżeli bilans kaloryczny po wybraniu poczatkowych produktow\n",
        "# jest mniejsz od 0 to dodaje n najlżejszych produktów o sumarycznej\n",
        "# kaloryczności przekraczającej niedobór kaloryczny w danym dniu. "
      ]
    },
    {
      "cell_type": "code",
      "execution_count": 7,
      "metadata": {
        "id": "_3UCp4IMQfZ-"
      },
      "outputs": [],
      "source": [
        "# Ograniczenia\n",
        "class lodowka():\n",
        "  poczatkowy_stan_lodowki = 0 # poczatkowy stan lodowki\n",
        "\n",
        "  maksymalna_poj_lodowki = 20 # maksymalna ilosc produktow w lodowce\n",
        "  maks_liczba = 1 # maksymalna ilosc tego samego produktu\n",
        "  N = 365 #tbd\n",
        "  max_poj_plecaka = 7 # kg maksymalna pojemnosc_plecaka\n",
        "  zapotrz_kal = 3000 # Zapotrzebowanie kaloryczne w danym dniu - w każdym dniu tyle samo\n",
        "  kryterium_stopu = 100 # maksymalna ilosc iteracji\n",
        "\n",
        "  def __init__(self, terminarz, lista_produktow):\n",
        "    \"\"\"\n",
        "    parameters:\n",
        "    terminarz - Przechowuje informacje w postaci (data, dzien_tygodnia, maksymalna_dopuszczalna_waga)\n",
        "    jeżeli maksymalna_dopuszczalna_waga = 0 wtedy w danym dniu nie idziemy do sklepu w przeciwnym wypadku jest równe max_poj_plecaka\n",
        "\n",
        "    lista produktow - przechowuje informacja w postaci np.ndarray, gdzie pierwsze\n",
        "\n",
        "    initial_solution przyjmuje to co zwraca metoda generate_initial_solution()\n",
        "    \"\"\"\n",
        "    self.terminarz = terminarz\n",
        "    self.lista_produktow = lista_produktow\n",
        "    self.initial_solution = self.generete_initial_solution()\n",
        "    # self.aktualny_stan_lodowki = x0\n",
        "    # self.aktualne_zapotrzebowanie_kaloryczne = zapotrz_kal\n",
        "    self.tabu_list = [] # Lista tabu\n",
        "    self.best_solution = self.initial_solution\n",
        "\n",
        "  def generete_initial_solution(self) -> np.ndarray:\n",
        "    \"\"\"\n",
        "    Returns:\n",
        "    initial_solution (list): Rozwiązanie początkowe, baza do kolejnych kroków.\n",
        "    Kolejne elementy initial_solution oznaczają kolejne dni terminarza.\n",
        "    Przykładowe elementy listy:\n",
        "    [1, [0, 0, 1, 0, 0, 1, 0, 1, 1, 1], 0]\n",
        "    [0, [0, 0, 0, 0, 0, 0, 0, 0, 0, 0], -19.0]\n",
        "    gdzie:  initial_solution[i][0]: decyzja o pójściu na zakupy\n",
        "            initial_solution[i][1]: lista wziętych produktów\n",
        "            initial_solution[i][2]: bilans kalorii\n",
        "\n",
        "    \"\"\"\n",
        "    initial_solution = []  # Rozwiązanie początkowe\n",
        "    self.lista_produktow = self.lista_produktow.to_numpy()\n",
        "    aktualny_stan_lodowki = self.poczatkowy_stan_lodowki\n",
        "    zawartosc_lodowki = []\n",
        "    for i in range(len(self.terminarz)):\n",
        "      aktualny_stan_plecaka = 0\n",
        "      if self.terminarz[i][2] != 0:\n",
        "        teoretyczna_lista_zakupow = random.sample(range(10), 10)\n",
        "        lista_1 = [0]*len(self.lista_produktow)\n",
        "        count = 0\n",
        "        while True and count < len(self.lista_produktow):\n",
        "            indeks_produktu_ktory_bierzemy = teoretyczna_lista_zakupow[count]\n",
        "            waga_produktu = self.lista_produktow[indeks_produktu_ktory_bierzemy][0]\n",
        "\n",
        "            #sprawdzenie czy produkt który zamierzamy wziąć spełnia ograniczenia lodówki i plecaka:\n",
        "            if aktualny_stan_lodowki + 1 <= self.maksymalna_poj_lodowki and aktualny_stan_plecaka + waga_produktu <= self.max_poj_plecaka:\n",
        "              lista_1[indeks_produktu_ktory_bierzemy] = 1\n",
        "              aktualny_stan_lodowki += 1\n",
        "              aktualny_stan_plecaka += waga_produktu\n",
        "              count += 1\n",
        "            else:\n",
        "              break\n",
        "        initial_solution.append([1, lista_1 , 0])\n",
        "        zawartosc_lodowki.append(lista_1)\n",
        "      else:\n",
        "        initial_solution.append([ 0, [0]*len(self.lista_produktow) , 0])\n",
        "      \n",
        "      wiersz_copy = copy.deepcopy(initial_solution[-1])\n",
        "      #aktualizacja zużycia produktow (sprawdzenie w których dniach będzie niedobór kaloryczny (poprawiane następnie w check_kalorie())):\n",
        "      aktualne_zuzycie = 0\n",
        "      while aktualne_zuzycie < self.zapotrz_kal:\n",
        "        if (len(np.nonzero(zawartosc_lodowki)[0])) > 0:\n",
        "          id_row = np.nonzero(zawartosc_lodowki)[0][0]\n",
        "          id_col = np.nonzero(zawartosc_lodowki)[1][0]\n",
        "          jedzony_produkt = self.lista_produktow[id_col]\n",
        "          zawartosc_lodowki[id_row][id_col] = 0\n",
        "          kalorycznosc = jedzony_produkt[1]\n",
        "          aktualne_zuzycie += kalorycznosc\n",
        "          aktualny_stan_lodowki -= 1\n",
        "        else:\n",
        "          wiersz_copy[2] += aktualne_zuzycie - self.zapotrz_kal #aktualizacja bilansu kalorii (zaznaczenie niedoboru)\n",
        "          break\n",
        "\n",
        "      initial_solution[-1] = wiersz_copy\n",
        "    return initial_solution\n",
        "\n",
        "\n",
        "  def check_kalorie(self):\n",
        "    \"\"\"\n",
        "    Metoda sprawdza czy produkty, które w danym dniu wybraliśmy spełniają nasze\n",
        "    ograniczenie dotyczące zapotrzebowania dziennego na kalorie.\n",
        "\n",
        "    Jeśli niedobor w danym dniu czyli (suma kaloryczności poszczególnych\n",
        "    produktów) - (zapotrzebowanie dzienne) <  0 to wtedy wybieramy produkty o\n",
        "    najmniejszej możliwej wadze dopóki niedobór będzie większy od 0.\n",
        "    note: w tym momencie nie sprawdzamy czy po dadaniu produktu przekroczyliśmy\n",
        "    maksymalna dopuszczalna pojemnosc plecaka max_poj_plecaka\n",
        "    \"\"\"\n",
        "    for i in range(len(self.initial_solution)):\n",
        "      if self.initial_solution[i][2] < 0: # jeśli niedobor jest mniejszy od 0\n",
        "        self.initial_solution[i][0] = 1 #trzeba bedzie pojsc na zakupy\n",
        "        lista_zakupow = self.initial_solution[i][1]\n",
        "        stan_plecaka = 0\n",
        "        produkty_do_wziecia = copy.deepcopy(self.lista_produktow)\n",
        "        for j in range(len(lista_zakupow)):\n",
        "          stan_plecaka += lista_zakupow[j]*self.lista_produktow[j][0]\n",
        "          if lista_zakupow[j] == 1: # Bierzemy dany produkt jeśli 1\n",
        "            produkty_do_wziecia[j][0] = self.max_poj_plecaka+1 # Zabronione przejscie\n",
        "\n",
        "        # tym kroku spradzamy ponownie czy po wybraniu w pierwszej turze\n",
        "        # x produktów i ich sumaryczna kaloryczność < zapotrzebowanie dzienne\n",
        "        # to wtedy bierzemy n produktów o najmniejszej możliwej dopuszczalnej\n",
        "        # masie tak aby sumaryczna_kalorycznosć >= zapotrzebowanie_dzienne\n",
        "        niedobor = self.initial_solution[i][2]\n",
        "        while niedobor < 0:\n",
        "          min_waga = np.min(produkty_do_wziecia[:, 0])\n",
        "          itemindex = np.where(produkty_do_wziecia[:, 0]==min_waga)[0][0]\n",
        "          self.initial_solution[i][1][itemindex] = 1\n",
        "          niedobor += produkty_do_wziecia[itemindex][1]\n",
        "          produkty_do_wziecia[itemindex][0] = self.max_poj_plecaka+1\n",
        "        self.initial_solution[i][2] = 0\n",
        "      else:\n",
        "        continue\n",
        "\n",
        "\n",
        "  # def step1(self, macierz_pom_produktow2 = None):\n",
        "  #   \"\"\"\n",
        "  #   Generowanie sąsiednich rozwiązan\n",
        "  #   \"\"\" \n",
        "  #   macierz_pom_produktow = copy.deepcopy(macierz_pom_produktow2)\n",
        "\n",
        "  #   if macierz_pom_produktow is None:\n",
        "  #     macierz_pom_produktow = np.empty((len(self.initial_solution), 10))\n",
        "  #     for i in range(0, len(self.initial_solution)):\n",
        "  #       macierz_pom_produktow[i] = self.initial_solution[i][1] \n",
        "\n",
        "  #   for i in range(10):\n",
        "  #     x_idx = np.random.randint(0, macierz_pom_produktow.shape[1])\n",
        "  #     y_idx = np.random.randint(0, macierz_pom_produktow.shape[0])\n",
        "  #     if macierz_pom_produktow[y_idx,x_idx] == 1:\n",
        "  #       macierz_pom_produktow[y_idx,x_idx] = 0\n",
        "  #   return macierz_pom_produktow\n",
        "\n",
        "\n",
        "  def step1(self, macierz_pom_produktow = None):\n",
        "    \"\"\"\n",
        "    Generowanie sąsiednich rozwiązan\n",
        "    \"\"\" \n",
        "    if macierz_pom_produktow is None:\n",
        "      macierz_pom_produktow = np.empty((len(self.initial_solution), 10))\n",
        "      for i in range(0, len(self.initial_solution)):\n",
        "        macierz_pom_produktow[i] = self.initial_solution[i][1] \n",
        "\n",
        "    for i in range(50):\n",
        "      kierunek_przesuniecia = [1, 2, 3, 4] # 1 - gora, 2 - dol, 3-lewo, 4- \n",
        "      x_idx = np.random.randint(0, macierz_pom_produktow.shape[1])\n",
        "      y_idx = np.random.randint(0, macierz_pom_produktow.shape[0])\n",
        "      # print(x_idx, y_idx)\n",
        "      if x_idx == 0: \n",
        "        kierunek_przesuniecia.remove(4)\n",
        "      elif x_idx == macierz_pom_produktow.shape[1]-1:\n",
        "        kierunek_przesuniecia.remove(2)\n",
        "\n",
        "      if y_idx == 0:\n",
        "        kierunek_przesuniecia.remove(1)\n",
        "\n",
        "      elif y_idx == macierz_pom_produktow.shape[0]-1:\n",
        "        kierunek_przesuniecia.remove(3)\n",
        "\n",
        "      kierunek_przesuniecia_wybor = random.choice(kierunek_przesuniecia)\n",
        "      # print(kierunek_przesuniecia_wybor)\n",
        "      if kierunek_przesuniecia_wybor == 1: #gora\n",
        "        macierz_pom_produktow[y_idx,x_idx], macierz_pom_produktow[y_idx - 1,x_idx] = macierz_pom_produktow[y_idx - 1 ,x_idx], macierz_pom_produktow[y_idx ,x_idx]\n",
        "      elif kierunek_przesuniecia_wybor == 3:#dol\n",
        "        macierz_pom_produktow[y_idx,x_idx], macierz_pom_produktow[y_idx + 1,x_idx] = macierz_pom_produktow[y_idx + 1 ,x_idx], macierz_pom_produktow[y_idx ,x_idx]\n",
        "\n",
        "      elif kierunek_przesuniecia_wybor == 2: # prawo\n",
        "        macierz_pom_produktow[y_idx,x_idx], macierz_pom_produktow[y_idx ,x_idx + 1] = macierz_pom_produktow[y_idx ,x_idx + 1], macierz_pom_produktow[y_idx ,x_idx]\n",
        "      else: #lewo\n",
        "        macierz_pom_produktow[y_idx,x_idx], macierz_pom_produktow[y_idx ,x_idx - 1] = macierz_pom_produktow[y_idx ,x_idx - 1], macierz_pom_produktow[y_idx ,x_idx]\n",
        "\n",
        "    # self.tabu_list.append(copy.deepcopy(macierz_pom_produktow))\n",
        "    return macierz_pom_produktow\n",
        "\n",
        "\n",
        "  def check_weight(self, macierz_pom_produktow: np.ndarray) -> List[bool]:\n",
        "    \"\"\"\n",
        "    jako parametr przyjmuje macierz w której wiersze reprezentują kolejne dni, natomiast\n",
        "    kolumny listę produktów\n",
        "    Zwraca List[bool] informujaca czy w danym dniu zakres plecaka został przekroczony\n",
        "    \"\"\"\n",
        "    ponad_stan_lst = []\n",
        "    for row in range(len(macierz_pom_produktow)):\n",
        "      waga = 0\n",
        "      for col in range(len(macierz_pom_produktow[row])):\n",
        "        waga += macierz_pom_produktow[row][col] * self.lista_produktow[col][0]\n",
        "\n",
        "      if waga > self.max_poj_plecaka:\n",
        "        ponad_stan_lst.append(True)\n",
        "      \n",
        "      else:\n",
        "        ponad_stan_lst.append(False)\n",
        "        \n",
        "    return ponad_stan_lst\n",
        "\n",
        "  def check_capacity(self, macierz_pom_produktow2 = None):\n",
        "    \"\"\"\n",
        "    jako parametr przyjmuje macierz w której wiersze reprezentują kolejne dni, natomiast\n",
        "    kolumny listę produktów\n",
        "    Zwraca List informujaca czy w danym dniu zakres lodowki został przekroczony\n",
        "    \"\"\"\n",
        "    if macierz_pom_produktow2 is None:\n",
        "      macierz_pom_produktow2 = np.empty((len(self.initial_solution), 10))\n",
        "      for i in range(0, len(self.initial_solution)):\n",
        "        macierz_pom_produktow2[i] = self.initial_solution[i][1]  \n",
        "      \n",
        "    ponad_stan_lst_lodowka = []\n",
        "    bilans_kalorie = []\n",
        "    aktualny_stan_lodowki = self.poczatkowy_stan_lodowki\n",
        "    zawartosc_lodowki = []\n",
        "    for row in range(len(macierz_pom_produktow2)):\n",
        "      \n",
        "      # print(\"nowy dzien, lista zakupow\")\n",
        "      # print(macierz_pom_produktow2[row])      \n",
        "      if not all([v == 0 for v in macierz_pom_produktow2[row]]):\n",
        "          zawartosc_lodowki.append(macierz_pom_produktow2[row])\n",
        "          aktualny_stan_lodowki += sum(macierz_pom_produktow2[row])\n",
        "          \n",
        "          # print(\"dodaje \", sum(macierz_pom_produktow2[row]), \" produktow\")\n",
        "          \n",
        "          ponad_stan_lst_lodowka.append(aktualny_stan_lodowki)\n",
        "\n",
        "      aktualne_zuzycie = 0\n",
        "      bilans_kalorie.append(0)\n",
        "      while aktualne_zuzycie < self.zapotrz_kal:\n",
        "        if (len(np.nonzero(zawartosc_lodowki)[0])) > 0:\n",
        "          # print(zawartosc_lodowki)\n",
        "          # print(np.nonzero(zawartosc_lodowki))\n",
        "          id_row = np.nonzero(zawartosc_lodowki)[0][0]\n",
        "          id_col = np.nonzero(zawartosc_lodowki)[1][0]\n",
        "          jedzony_produkt = self.lista_produktow[id_col]\n",
        "\n",
        "          zawartosc_lodowki[id_row][id_col] = 0\n",
        "          # if all([v == 0 for v in zawartosc_lodowki[0]]):\n",
        "          #   if len(zawartosc_lodowki)==1:\n",
        "          #     zawartosc_lodowki = np.zeros((1, 10))\n",
        "          #   else:\n",
        "          #     zawartosc_lodowki = np.delete(zawartosc_lodowki, 0, 0)\n",
        "          kalorycznosc = jedzony_produkt[1]\n",
        "          aktualne_zuzycie += kalorycznosc\n",
        "          aktualny_stan_lodowki -= 1\n",
        "      \n",
        "          # print(\"usuwam 1 produkt\")\n",
        "      \n",
        "        else:\n",
        "          bilans_kalorie.append(aktualne_zuzycie - self.zapotrz_kal)\n",
        "          break\n",
        "\n",
        "    return ponad_stan_lst_lodowka, bilans_kalorie\n",
        "\n",
        "\n",
        "  def check_current_sol_in_tabu_list(self, list_of_sol: List[np.ndarray], current_solution: np.ndarray) -> bool:\n",
        "    \"\"\"\n",
        "    Sprawdza czy obecne rozwiązanie jest w tabu list zwraca True jeśli tak\n",
        "    \"\"\"\n",
        "    # if len(self.tabu_list) == 1:\n",
        "    #   return current_solution is self.tabu_list[0]\n",
        "    \n",
        "    # else:\n",
        "    #   for elem in self.tabu_list:\n",
        "    #     if current_solution is elem:\n",
        "    #       return True\n",
        "    #     else:\n",
        "    #       continue\n",
        "    #   return False\n",
        "    return next((True for elem in self.tabu_list if elem is current_solution), False)\n",
        "\n",
        "  # def check_current_sol_in_tabu_list(self, list_of_sol, current_solution: np.ndarray) -> bool:\n",
        "\n",
        "  #   list_of_solution: List[bool] = []\n",
        "  #   for elem in range(len(list_of_sol)):\n",
        "  #       for i in range(len(list_of_sol[elem])):\n",
        "  #           same_elem: bool = True\n",
        "  #           for j in range(len(list_of_sol[elem][i])):\n",
        "  #               if current_solution[i][j] != list_of_sol[elem][i][j]:\n",
        "  #                   same_elem = False\n",
        "  #                   break\n",
        "  #               else:\n",
        "  #                   same_elem = True\n",
        "  #           if same_elem is False:\n",
        "  #               break\n",
        "  #       if same_elem is False:\n",
        "  #           list_of_solution.append(False)\n",
        "  #       else:\n",
        "  #           list_of_solution.append(True)\n",
        "  #   return any(list_of_solution)\n",
        "        \n",
        "\n",
        "  def zwroc_najlepsze_rozwiazanie(self, initial_solution):\n",
        "    min = 0\n",
        "    for i in range(len(initial_solution)):\n",
        "      min += initial_solution[i][0]   \n",
        "    return min\n",
        "\n",
        "  def zwroc_liste_produktow(self, macierz_pom_produktow = None):\n",
        "\n",
        "    if macierz_pom_produktow is not None:\n",
        "      macierz_pom_produktow2 = np.empty((len(macierz_pom_produktow), 10))\n",
        "      for i in range(0, len(macierz_pom_produktow)):\n",
        "        macierz_pom_produktow2[i] = macierz_pom_produktow[i][1] \n",
        "      return macierz_pom_produktow2 \n",
        "    \n",
        "    else:\n",
        "      macierz_pom_produktow = np.empty((len(self.initial_solution), 10))\n",
        "      for i in range(0, len(self.initial_solution)):\n",
        "        macierz_pom_produktow[i] = self.initial_solution[i][1] \n",
        "      return macierz_pom_produktow \n",
        "\n",
        "  def postac_do_rozwiazania(self, lista_produktow):\n",
        "    lista = copy.deepcopy(lista_produktow)\n",
        "    rozwiazanie = []\n",
        "    bilans = self.check_capacity(lista)[1]\n",
        "    for i in range(len(lista_produktow)):\n",
        "      decyzja = 1\n",
        "      if all([v == 0 for v in lista_produktow[i]]):\n",
        "        decyzja = 0\n",
        "      rozwiazanie.append([decyzja, lista_produktow[i], bilans[i]])\n",
        "    return rozwiazanie\n",
        "\n",
        "\n",
        "  def tabu_solution(self):\n",
        "    it =  0\n",
        "    lista_produktow_poczatkowa = self.zwroc_liste_produktow()\n",
        "    self.tabu_list.append(lista_produktow_poczatkowa)\n",
        "    print(\"Poczatkowe najlepsze rozwiazanie\", self.zwroc_najlepsze_rozwiazanie(self.postac_do_rozwiazania(lista_produktow_poczatkowa)))\n",
        "    print(self.postac_do_rozwiazania(lista_produktow_poczatkowa))\n",
        "    # print(\"przed while\", it)\n",
        "    poprzednie_rozwiazanie = self.zwroc_liste_produktow()\n",
        "\n",
        "    while(it < self.kryterium_stopu):\n",
        "      it += 1\n",
        "      # print(\"Po while\", it)\n",
        "      copy_for_step = copy.deepcopy(poprzednie_rozwiazanie)\n",
        "      sasiednie_rozwiazanie = self.step1(copy_for_step)\n",
        "      # self.check_kalorie()\n",
        "      sasiednie_rozwiazanie = self.zwroc_liste_produktow(sasiednie_rozwiazanie)\n",
        "      for_check = copy.deepcopy(sasiednie_rozwiazanie)\n",
        "      sasiednie_rozwiazanie_lodowka_ponad_stan, kalorie_sasiednie_rozwiazanie = self.check_capacity(macierz_pom_produktow2=for_check)\n",
        "\n",
        "      if self.check_current_sol_in_tabu_list(self.tabu_list, for_check):\n",
        "        print(\"rozw w liscie tabu \\t\", it)\n",
        "        continue\n",
        "\n",
        "      elif any([v > self.maksymalna_poj_lodowki for v in sasiednie_rozwiazanie_lodowka_ponad_stan]) or any([v < 0 for v in kalorie_sasiednie_rozwiazanie]):\n",
        "          if any([v < 0 for v in kalorie_sasiednie_rozwiazanie]) :\n",
        "            print(\"wykrylo ze jest nie ok kcal\")\n",
        "          else:\n",
        "            print(\"wykrylo ze jest nie ok else\")\n",
        "          self.tabu_list.append(for_check)\n",
        "          continue\n",
        "\n",
        "      else:\n",
        "        print(\"rowz NIE w liscie tabu \\t\", it)\n",
        "        rozwiazanie = self.postac_do_rozwiazania(sasiednie_rozwiazanie)\n",
        "        best_current_sol = self.zwroc_najlepsze_rozwiazanie(rozwiazanie)\n",
        "        poprzednie_rozwiazanie = self.zwroc_liste_produktow(rozwiazanie)\n",
        "\n",
        "        if self.zwroc_najlepsze_rozwiazanie(self.best_solution) > best_current_sol:\n",
        "          print(\"Najlepsze rozwiazanie\\t: \", best_current_sol)\n",
        "          print(rozwiazanie)\n",
        "          self.best_solution = rozwiazanie\n",
        "          print(\"Kolejne rozwiazania: \\t\", best_current_sol)\n",
        "          print(rozwiazanie)\n",
        "        else:\n",
        "          print(\"NIE najlepsze rozwiazanie\\t\", best_current_sol)\n",
        "          print(rozwiazanie)\n",
        "          continue\n",
        "      "
      ]
    },
    {
  "nbformat": 4,
  "nbformat_minor": 0,
  "metadata": {
    "colab": {
      "name": "BO2.ipynb",
      "provenance": [],
      "collapsed_sections": []
    },
    "kernelspec": {
      "name": "python3",
      "display_name": "Python 3"
    },
    "language_info": {
      "name": "python"
    }
  },
  "cells": [
    {
      "cell_type": "markdown",
      "metadata": {
        "id": "DYmAvdcvmxHc"
      },
      "source": [
        "# Modele - Implementacja </br>\n",
        "\n",
        "- Barbara Pobiedzińska 400781\n",
        "- Tomasz Brania 400642\n",
        "- Marcin Biela 302959 </br>\n",
        "\n",
        "Grupa 1a"
      ]
    },
    {
      "cell_type": "code",
      "metadata": {
        "id": "96Bo0vGSHjfH"
      },
      "source": [
        "import numpy as np\n",
        "import pandas as pd\n",
        "import random\n",
        "import copy"
      ],
      "execution_count": 2,
      "outputs": []
    },
    {
      "cell_type": "markdown",
      "metadata": {
        "id": "5jT-KgWALv4w"
      },
      "source": [
        ""
      ]
    },
    {
      "cell_type": "markdown",
      "metadata": {
        "id": "SJuLUUAiHvvC"
      },
      "source": [
        "\n",
        "TODO  struktury danych:\n",
        "\n",
        "xn - stan “lodówki” na początku x0 = 0\n",
        "\n",
        "yn - decyzja czy w danym dniu idziemy na zakupy\n",
        "\n",
        "n - n-ty dzień\n",
        "\n",
        "an - ograniczenie pojemności plecaka w danym dniu\n",
        "\n",
        "b - prędkość zużywania zapasów\n",
        "\n",
        "ci - tabela wagi wartościowości\n",
        "\n",
        "N - ilość dni do ustalenia terminarza\n"
      ]
    },
    {
      "cell_type": "code",
      "metadata": {
        "id": "5Or4zmQhHuq3",
        "colab": {
          "base_uri": "https://localhost:8080/"
        },
        "outputId": "1157b0b8-f351-47ed-8d21-30bfd18c879b"
      },
      "source": [
        "#dane\n",
        "n_records = 10\n",
        "\n",
        "tabela_produktow = [f\"Produkt{i+1}\" for i in range(n_records)]\n",
        "print(tabela_produktow)\n",
        "\n",
        "# tabele zczytywac z excela c(wartociowosc od wagi od czegos dodatkowego np kalorie)\n",
        "# ograniczenie plecaka tez (czy robic funkcje ktora wylicza ktore dni sa niehandlowe (niedziele i swieta))"
      ],
      "execution_count": 3,
      "outputs": [
        {
          "output_type": "stream",
          "name": "stdout",
          "text": [
            "['Produkt1', 'Produkt2', 'Produkt3', 'Produkt4', 'Produkt5', 'Produkt6', 'Produkt7', 'Produkt8', 'Produkt9', 'Produkt10']\n"
          ]
        }
      ]
    },
    {
      "cell_type": "code",
      "metadata": {
        "colab": {
          "base_uri": "https://localhost:8080/"
        },
        "id": "0Kq-4EqHNzHD",
        "outputId": "a448e659-97a6-4e68-cf3b-f1205c794b71"
      },
      "source": [
        "# tabela_wartosciowosc_kalorie = np.random.randint(low=400, high=1000, size=n_records)\n",
        "\n",
        "tabela_wartosciowosc_kalorie = np.round(np.random.normal(1000, 300, size=n_records))\n",
        "tabela_wartosciowosc_przydatnosc = np.random.randint(low=0, high=2, size=n_records)\n",
        "tabela_wag = np.round(np.random.random(n_records) * 3, 2)\n",
        "\n",
        "print(tabela_wartosciowosc_kalorie)\n",
        "print(tabela_wartosciowosc_przydatnosc)\n",
        "print(tabela_wag)"
      ],
      "execution_count": 4,
      "outputs": [
        {
          "output_type": "stream",
          "name": "stdout",
          "text": [
            "[ 778. 1020.  535.  746.  832. 1169. 1047.  820.  571.  863.]\n",
            "[0 1 1 1 1 1 0 1 0 0]\n",
            "[0.05 0.6  1.84 0.11 2.22 2.88 1.23 0.26 0.85 2.61]\n"
          ]
        }
      ]
    },
    {
      "cell_type": "markdown",
      "metadata": {
        "id": "P80-dK0xPCoe"
      },
      "source": [
        "# Dokumentacja danych odnoscie produktów\n",
        "\n",
        "Dane o produktach mamy przedstawione w DataFramie w postaci:</br>\n",
        " - [waga, kaloryczność, przydatność]"
      ]
    },
    {
      "cell_type": "code",
      "metadata": {
        "colab": {
          "base_uri": "https://localhost:8080/",
          "height": 363
        },
        "id": "Di0PYDbfcCxf",
        "outputId": "7b1705c6-ad92-4564-c913-d95425bc23dc"
      },
      "source": [
        "tabela_merge = {}\n",
        "for i in range(len(tabela_produktow)):\n",
        "  tabela_merge[tabela_produktow[i]] = [tabela_wag[i], tabela_wartosciowosc_kalorie[i], tabela_wartosciowosc_przydatnosc[i]]\n",
        "\n",
        "# print(tabela_merge)\n",
        "\n",
        "df = pd.DataFrame(tabela_merge).transpose()\n",
        "df.rename(columns={0: \"waga\", 1: \"kaloryczność\", 2:\"przydatnosc\"})\n"
      ],
      "execution_count": 5,
      "outputs": [
        {
          "output_type": "execute_result",
          "data": {
            "text/html": [
              "<div>\n",
              "<style scoped>\n",
              "    .dataframe tbody tr th:only-of-type {\n",
              "        vertical-align: middle;\n",
              "    }\n",
              "\n",
              "    .dataframe tbody tr th {\n",
              "        vertical-align: top;\n",
              "    }\n",
              "\n",
              "    .dataframe thead th {\n",
              "        text-align: right;\n",
              "    }\n",
              "</style>\n",
              "<table border=\"1\" class=\"dataframe\">\n",
              "  <thead>\n",
              "    <tr style=\"text-align: right;\">\n",
              "      <th></th>\n",
              "      <th>waga</th>\n",
              "      <th>kaloryczność</th>\n",
              "      <th>przydatnosc</th>\n",
              "    </tr>\n",
              "  </thead>\n",
              "  <tbody>\n",
              "    <tr>\n",
              "      <th>Produkt1</th>\n",
              "      <td>0.05</td>\n",
              "      <td>778.0</td>\n",
              "      <td>0.0</td>\n",
              "    </tr>\n",
              "    <tr>\n",
              "      <th>Produkt2</th>\n",
              "      <td>0.60</td>\n",
              "      <td>1020.0</td>\n",
              "      <td>1.0</td>\n",
              "    </tr>\n",
              "    <tr>\n",
              "      <th>Produkt3</th>\n",
              "      <td>1.84</td>\n",
              "      <td>535.0</td>\n",
              "      <td>1.0</td>\n",
              "    </tr>\n",
              "    <tr>\n",
              "      <th>Produkt4</th>\n",
              "      <td>0.11</td>\n",
              "      <td>746.0</td>\n",
              "      <td>1.0</td>\n",
              "    </tr>\n",
              "    <tr>\n",
              "      <th>Produkt5</th>\n",
              "      <td>2.22</td>\n",
              "      <td>832.0</td>\n",
              "      <td>1.0</td>\n",
              "    </tr>\n",
              "    <tr>\n",
              "      <th>Produkt6</th>\n",
              "      <td>2.88</td>\n",
              "      <td>1169.0</td>\n",
              "      <td>1.0</td>\n",
              "    </tr>\n",
              "    <tr>\n",
              "      <th>Produkt7</th>\n",
              "      <td>1.23</td>\n",
              "      <td>1047.0</td>\n",
              "      <td>0.0</td>\n",
              "    </tr>\n",
              "    <tr>\n",
              "      <th>Produkt8</th>\n",
              "      <td>0.26</td>\n",
              "      <td>820.0</td>\n",
              "      <td>1.0</td>\n",
              "    </tr>\n",
              "    <tr>\n",
              "      <th>Produkt9</th>\n",
              "      <td>0.85</td>\n",
              "      <td>571.0</td>\n",
              "      <td>0.0</td>\n",
              "    </tr>\n",
              "    <tr>\n",
              "      <th>Produkt10</th>\n",
              "      <td>2.61</td>\n",
              "      <td>863.0</td>\n",
              "      <td>0.0</td>\n",
              "    </tr>\n",
              "  </tbody>\n",
              "</table>\n",
              "</div>"
            ],
            "text/plain": [
              "           waga  kaloryczność  przydatnosc\n",
              "Produkt1   0.05         778.0          0.0\n",
              "Produkt2   0.60        1020.0          1.0\n",
              "Produkt3   1.84         535.0          1.0\n",
              "Produkt4   0.11         746.0          1.0\n",
              "Produkt5   2.22         832.0          1.0\n",
              "Produkt6   2.88        1169.0          1.0\n",
              "Produkt7   1.23        1047.0          0.0\n",
              "Produkt8   0.26         820.0          1.0\n",
              "Produkt9   0.85         571.0          0.0\n",
              "Produkt10  2.61         863.0          0.0"
            ]
          },
          "metadata": {},
          "execution_count": 5
        }
      ]
    },
    {
      "cell_type": "code",
      "metadata": {
        "colab": {
          "base_uri": "https://localhost:8080/"
        },
        "id": "mb-fotoT7BY_",
        "outputId": "6f864188-bc64-44b6-eeca-28cbdd59ab57"
      },
      "source": [
        "df.to_numpy()"
      ],
      "execution_count": 6,
      "outputs": [
        {
          "output_type": "execute_result",
          "data": {
            "text/plain": [
              "array([[5.000e-02, 7.780e+02, 0.000e+00],\n",
              "       [6.000e-01, 1.020e+03, 1.000e+00],\n",
              "       [1.840e+00, 5.350e+02, 1.000e+00],\n",
              "       [1.100e-01, 7.460e+02, 1.000e+00],\n",
              "       [2.220e+00, 8.320e+02, 1.000e+00],\n",
              "       [2.880e+00, 1.169e+03, 1.000e+00],\n",
              "       [1.230e+00, 1.047e+03, 0.000e+00],\n",
              "       [2.600e-01, 8.200e+02, 1.000e+00],\n",
              "       [8.500e-01, 5.710e+02, 0.000e+00],\n",
              "       [2.610e+00, 8.630e+02, 0.000e+00]])"
            ]
          },
          "metadata": {},
          "execution_count": 6
        }
      ]
    },
    {
      "cell_type": "code",
      "metadata": {
        "id": "mk6m20nFPyA-"
      },
      "source": [
        "## Klasa opisująca stan lodówki w czasie\n",
        "Posiada następujące metody: </br>\n",
        "- __init__, która przyjmuje jako parametry terminarz oraz liste produktow\n",
        "- generate_initial_solution - generuje rozwiązanie początkowe uwzględniając \n",
        "ograniczenia dotyczące maksymalnej dopuszczalnej pojemnosci lodowki i plecaka\n",
        "- check_kalorie - Jeżeli bilans kaloryczny po wybraniu poczatkowych produktow\n",
        "jest mniejsz od 0 to dodaje n najlżejszych produktów o sumarycznej\n",
        "kaloryczności przekraczającej niedobór kaloryczny w danym dniu. "
      ],
      "execution_count": null,
      "outputs": []
    },
    {
      "cell_type": "code",
      "metadata": {
        "id": "_3UCp4IMQfZ-"
      },
      "source": [
        "# Ograniczenia\n",
        "class lodowka():\n",
        "  poczatkowy_stan_lodowki = 0 # poczatkowy stan lodowki\n",
        "\n",
        "  maksymalna_poj_lodowki = 10 # maksymalna ilosc produktow w lodowce\n",
        "  maks_liczba = 1 # maksymalna ilosc tego samego produktu\n",
        "  N = 365 #tbd\n",
        "  max_poj_plecaka = 7 # kg maksymalna pojemnosc_plecaka\n",
        "  zapotrz_kal = 3000 # Zapotrzebowanie kaloryczne w danym dniu - w każdym dniu tyle samo\n",
        "\n",
        "  def __init__(self, terminarz, lista_produktow):\n",
        "    \"\"\"\n",
        "    parameters:\n",
        "    terminarz - Przechowuje informacje w postaci (data, dzien_tygodnia, maksymalna_dopuszczalna_waga)\n",
        "    jeżeli maksymalna_dopuszczalna_waga = 0 wtedy w danym dniu nie idziemy do sklepu w przeciwnym wypadku jest równe max_poj_plecaka\n",
        "\n",
        "    lista produktow - przechowuje informacja w postaci np.ndarray, gdzie pierwsze\n",
        "\n",
        "    initial_solution przyjmuje to co zwraca metoda generate_initial_solution()\n",
        "    \"\"\"\n",
        "    self.terminarz = terminarz\n",
        "    self.lista_produktow = lista_produktow\n",
        "    self.initial_solution = self.generete_initial_solution()\n",
        "    # self.aktualny_stan_lodowki = x0\n",
        "    # self.aktualne_zapotrzebowanie_kaloryczne = zapotrz_kal\n",
        "\n",
        "  def generete_initial_solution(self) -> np.ndarray:\n",
        "    \"\"\"\n",
        "    Returns:\n",
        "    initial_solution (list): Rozwiązanie początkowe, baza do kolejnych kroków.\n",
        "    Kolejne elementy initial_solution oznaczają kolejne dni terminarza.\n",
        "    Przykładowe elementy listy:\n",
        "    [1, [0, 0, 1, 0, 0, 1, 0, 1, 1, 1], 0]\n",
        "    [0, [0, 0, 0, 0, 0, 0, 0, 0, 0, 0], -19.0]\n",
        "    gdzie:  initial_solution[i][0]: decyzja o pójściu na zakupy\n",
        "            initial_solution[i][1]: lista wziętych produktów\n",
        "            initial_solution[i][2]: bilans kalorii\n",
        "\n",
        "    \"\"\"\n",
        "    initial_solution = []  # Rozwiązanie początkowe\n",
        "    self.lista_produktow = self.lista_produktow.to_numpy()\n",
        "    aktualny_stan_lodowki = self.poczatkowy_stan_lodowki\n",
        "    zawartosc_lodowki = []\n",
        "    for i in range(len(self.terminarz)):\n",
        "      aktualny_stan_plecaka = 0\n",
        "      if self.terminarz[i][2] != 0:\n",
        "        teoretyczna_lista_zakupow = random.sample(range(10), 10)\n",
        "        lista_1 = [0]*len(self.lista_produktow)\n",
        "        count = 0\n",
        "        while True:\n",
        "            indeks_produktu_ktory_bierzemy = teoretyczna_lista_zakupow[count]\n",
        "            waga_produktu = self.lista_produktow[indeks_produktu_ktory_bierzemy][0]\n",
        "\n",
        "            #sprawdzenie czy produkt który zamierzamy wziąć spełnia ograniczenia lodówki i plecaka:\n",
        "            if aktualny_stan_lodowki + 1 <= self.maksymalna_poj_lodowki and aktualny_stan_plecaka + waga_produktu <= self.max_poj_plecaka:\n",
        "              lista_1[indeks_produktu_ktory_bierzemy] = 1\n",
        "              zawartosc_lodowki.append(indeks_produktu_ktory_bierzemy)\n",
        "              aktualny_stan_lodowki += 1\n",
        "              aktualny_stan_plecaka += waga_produktu\n",
        "              count += 1\n",
        "            else:\n",
        "              break\n",
        "\n",
        "        initial_solution.append([1, lista_1 , 0])\n",
        "      else:\n",
        "        initial_solution.append([ 0, [0]*len(self.lista_produktow) , 0])\n",
        "\n",
        "      #aktualizacja zużycia produktow (sprawdzenie w których dniach będzie niedobór kaloryczny (poprawiane następnie w check_kalorie())):\n",
        "      aktualne_zuzycie = 0\n",
        "      while aktualne_zuzycie < self.zapotrz_kal:\n",
        "        if (len(zawartosc_lodowki)) > 0:\n",
        "          jedzony_produkt = self.lista_produktow[zawartosc_lodowki.pop(0)]\n",
        "          kalorycznosc = jedzony_produkt[1]\n",
        "          aktualne_zuzycie += kalorycznosc\n",
        "          aktualny_stan_lodowki -= 1\n",
        "        else:\n",
        "          initial_solution[i][2] = aktualne_zuzycie - self.zapotrz_kal #aktualizacja bilansu kalorii (zaznaczenie niedoboru)\n",
        "          break\n",
        "\n",
        "\n",
        "\n",
        "    # lista = np.random.randint(0, 10, 10)\n",
        "    # for i in range(len(initial_solution)):\n",
        "    #   if initial_solution[i][0] != 0:\n",
        "    #     for j in range(len(self.lista_produktow)):\n",
        "    #       initial_solution[i][1].append(np.random.randint(0, 2)) #ewentualnie mozna brac wiecej (randint (0, x))\n",
        "\n",
        "    # dorzucic na kazdy dzien liste produktow , uwzgledniajac ich zuzycie -> czy spelnia to zapotrzebowanie\n",
        "    return initial_solution\n",
        "\n",
        "  def check_kalorie(self):\n",
        "    \"\"\"\n",
        "    Metoda sprawdza czy produkty, które w danym dniu wybraliśmy spełniają nasze\n",
        "    ograniczenie dotyczące zapotrzebowania dziennego na kalorie.\n",
        "\n",
        "    Jeśli niedobor w danym dniu czyli (suma kaloryczności poszczególnych\n",
        "    produktów) - (zapotrzebowanie dzienne) <  0 to wtedy wybieramy produkty o\n",
        "    najmniejszej możliwej wadze dopóki niedobór będzie większy od 0.\n",
        "    note: w tym momencie nie sprawdzamy czy po dadaniu produktu przekroczyliśmy\n",
        "    maksymalna dopuszczalna pojemnosc plecaka max_poj_plecaka\n",
        "    \"\"\"\n",
        "    for i in range(len(self.initial_solution)):\n",
        "      if self.initial_solution[i][2] < 0: # jeśli niedobor jest mniejszy od 0\n",
        "        self.initial_solution[i][0] = 1 #trzeba bedzie pojsc na zakupy\n",
        "        lista_zakupow = self.initial_solution[i][1]\n",
        "        stan_plecaka = 0\n",
        "        produkty_do_wziecia = copy.deepcopy(self.lista_produktow)\n",
        "        for j in range(len(lista_zakupow)):\n",
        "          stan_plecaka += lista_zakupow[j]*self.lista_produktow[j][0]\n",
        "          if lista_zakupow[j] == 1: # Bierzemy dany produkt jeśli 1\n",
        "            produkty_do_wziecia[j][0] = self.max_poj_plecaka+1 # Zabronione przejscie\n",
        "\n",
        "        # tym kroku spradzamy ponownie czy po wybraniu w pierwszej turze\n",
        "        # x produktów i ich sumaryczna kaloryczność < zapotrzebowanie dzienne\n",
        "        # to wtedy bierzemy n produktów o najmniejszej możliwej dopuszczalnej\n",
        "        # masie tak aby sumaryczna_kalorycznosć >= zapotrzebowanie_dzienne\n",
        "        niedobor = self.initial_solution[i][2]\n",
        "        while niedobor < 0:\n",
        "          min_waga = np.min(produkty_do_wziecia[:, 0])\n",
        "          itemindex = np.where(produkty_do_wziecia[:, 0]==min_waga)[0][0]\n",
        "          self.initial_solution[i][1][itemindex] = 1\n",
        "          niedobor += produkty_do_wziecia[itemindex][1]\n",
        "          produkty_do_wziecia[itemindex][0] = self.max_poj_plecaka+1\n",
        "        self.initial_solution[i][2] = 0\n",
        "      else:\n",
        "        continue\n",
        "\n",
        "\n",
        "# [p1, p2, p3, p4]\n",
        "  # [1000, 1000, 2000, 500]\n",
        "## [1, [1,1,0,1], 2500-3000=-500, [] ]\n",
        "# piatek:\n",
        "## [1, [0,0,1,1], ..., []]\n",
        "# sobta:\n",
        "# [0, [0,0,0,0]]\n",
        "# poniedzialek\n",
        "# [p1, p2, p3, p4]\n",
        "  # [1000, 1000, 2000, 500]\n",
        "  # [5, 5, 10, 7]\n",
        "  # [1234] (kolejka)\n",
        "## [1, [1,0,1,1], 4000-3000=----, [p4]]\n",
        "# jezeli niedobór co do kalorycznosci\n",
        "# jezeli nadmiar co do pojemnosci plecaka -> usuwamy najmniej kaloryczny produkt\n",
        "\n",
        "\n",
        "# x0 = 0 # poczatkowy stan lodowki\n",
        "# x_max = 10 # maksymalna ilosc produktow w lodowce w danym momencie\n",
        "# x_1 = 1 # maksymalna ilosc tego samego produktu\n",
        "# N = 365 #tbd\n",
        "# max_poj_plecaka = 20 # kg maksymalna pojemnosc_plecaka\n",
        "# zapotrz_kal = 3000 # Zapotrzebowanie kaloryczne w danym dniu - w każdym dniu tyle samo\n",
        "# # Zakładamy, że w niedziele nie robimy zakupów\n",
        "\n",
        "## dodane: mieisiac pierwszy\n",
        "# lista_swiat = [(1, 1), (1, 6), (5, 1), (5, 3), (8, 15), (11, 1), (11, 11), (12, 25), (12, 26)]\n",
        "# 1, 3, 2 - spełnia\n",
        "# 1, 2 - spełnia > 3000"
      ],
      "execution_count": 7,
      "outputs": []
    },
    {
      "cell_type": "markdown",
      "metadata": {
        "id": "Yv-zMVSIQ-io"
      },
      "source": [
        "# Generowanie kalendarza\n",
        "\n",
        "Posiadając listę dniu w których sklepy są zamknięte jako lista_swiat, generujemy kalendarz przekazujac funkcji returncalendar następujące parametry: </br>\n",
        "- first_day\n",
        "- first_month\n",
        "- first_year\n",
        "- last_day\n",
        "- last_month\n",
        "- last_year\n",
        "\n",
        "I zwraca kalendarz w postaci krotki: </br>\n",
        "- data: obiekt datetime\n",
        "- dzien tygodnia: int\n",
        "- czy jest możliwość zakupów max_poj_plecaka-tak, 0-nie"
      ]
    },
    {
      "cell_type": "code",
      "execution_count": 8,
      "metadata": {
        "colab": {
          "base_uri": "https://localhost:8080/"
        },
        "id": "gTo6Z4d5R0-y",
        "outputId": "1eef35f0-2f43-4ee1-b424-7f89ba873570",
        "tags": []
      },
      "outputs": [
        {
          "name": "stdout",
          "output_type": "stream",
          "text": [
            "(datetime.date(2022, 1, 3), 0, 7) \n",
            "\n",
            "(datetime.date(2022, 1, 4), 1, 7) \n",
            "\n",
            "(datetime.date(2022, 1, 5), 2, 7) \n",
            "\n",
            "(datetime.date(2022, 1, 6), 3, 7) \n",
            "\n",
            "(datetime.date(2022, 1, 7), 4, 7) \n",
            "\n",
            "(datetime.date(2022, 1, 8), 5, 7) \n",
            "\n",
            "(datetime.date(2022, 1, 9), 6, 7) \n",
            "\n",
            "(datetime.date(2022, 1, 10), 0, 7) \n",
            "\n",
            "(datetime.date(2022, 1, 11), 1, 7) \n",
            "\n",
            "(datetime.date(2022, 1, 12), 2, 7) \n",
            "\n",
            "(datetime.date(2022, 1, 13), 3, 7) \n",
            "\n",
            "(datetime.date(2022, 1, 14), 4, 7) \n",
            "\n",
            "(datetime.date(2022, 1, 15), 5, 7) \n",
            "\n"
          ]
        }
      ],
        "outputId": "50bdc975-0b59-4f26-89e2-0b898665749e"
      },
      "source": [
        "# funkcja\n",
        "import calendar\n",
        "import datetime\n",
        "\n",
        "# lista_swiat = [datetime.date(2022, 1, 1),\n",
        "#                datetime.date(2022, 1, 6),\n",
        "#                datetime.date(2022, 4, 17),\n",
        "#                datetime.date(2022, 4, 18),\n",
        "#                datetime.date(2022, 5, 1),\n",
        "#                datetime.date(2022, 5, 3),\n",
        "#                datetime.date(2022, 6, 5),\n",
        "#                datetime.date(2022, 6, 16),\n",
        "#                datetime.date(2022, 7, 15),\n",
        "#                datetime.date(2022, 11, 1),\n",
        "#                datetime.date(2022, 11, 11),\n",
        "#                datetime.date(2022, 12, 25),\n",
        "#                datetime.date(2022, 12, 26)]\n",
        "lista_swiat = []\n",
        "lista_swiat = [datetime.date(2022, 1, 1),\n",
        "               datetime.date(2022, 1, 6),\n",
        "               datetime.date(2022, 4, 17),\n",
        "               datetime.date(2022, 4, 18),\n",
        "               datetime.date(2022, 5, 1),\n",
        "               datetime.date(2022, 5, 3),\n",
        "               datetime.date(2022, 6, 5),\n",
        "               datetime.date(2022, 6, 16),\n",
        "               datetime.date(2022, 7, 15),\n",
        "               datetime.date(2022, 11, 1),\n",
        "               datetime.date(2022, 11, 11),\n",
        "               datetime.date(2022, 12, 25),\n",
        "               datetime.date(2022, 12, 26)]\n",
>>>>>>> 292a83f5a7c927dc0ff07f579d60d55823b077f1
        "\n",
        "\n",
        "def returncalendar(first_day, first_month, first_year, last_day, last_month, last_year) :\n",
        "  #doesnt include the last day -> update po dodaniu days = 1 tak\n",
        "  #lista dni iteruje od 0\n",
        "\n",
        "  # wielkanoc_mth = input(\"Kiedy Wielkanoc: numer miesiąca\")\n",
        "  # wielkanoc_day = input(\"Kiedy Wielkanoc: numer dnia\")\n",
        "  # boze_cialo_mth = input(\"Kiedy Boże Ciało: numer miesiąca\")\n",
        "  # boze_cialo_day = input(\"Kiedy Boże Ciało: numer dnia\")\n",
        "\n",
        " # roboczo zeby nie wpisywac\n",
        "  wielkanoc_mth = 4\n",
        "  wielkanoc_day = 17\n",
        "  boze_cialo_mth = 6\n",
        "  boze_cialo_day = 16\n",
        "\n",
        "\n",
        "  # lista_swiat_here = lista_swiat.copy()\n",
        "  # lista_swiat_here.append((int(wielkanoc_mth), int(wielkanoc_day)))\n",
        "  # lista_swiat_here.append((int(boze_cialo_mth), int(boze_cialo_day)))\n",
        "  # # print(lista_swiat_here)\n",
        "\n",
        "  # lista_swiat_here.sort()\n",
        "  # # print(lista_swiat_here)\n",
        "\n",
        "\n",
        "  vector_days = []\n",
        "\n",
        "  d0 = datetime.date(first_year, first_month, first_day)\n",
        "  d1 = datetime.date(last_year, last_month, last_day)\n",
        "\n",
        "  start_date = d0\n",
        "  end_date = d1\n",
        "  delta = datetime.timedelta(days=1)\n",
        "\n",
        "  while start_date <= end_date:\n",
        "    weight = lodowka.max_poj_plecaka\n",
        "    # if start_date.weekday() == 6:\n",
        "    #   weight = 0\n",
        "    if start_date.weekday() == 6:\n",
        "      weight = 0\n",
        "\n",
        "    if start_date in lista_swiat:\n",
        "      weight = 0  # poj plecaka\n",
        "\n",
        "    vector_days.append((start_date, start_date.weekday(), weight))\n",
        "\n",
        "    start_date += delta\n",
        "\n",
        "  return vector_days\n",
        "\n",
        "\n",
        "terminarz = returncalendar(3, 1, 2022, 15, 1, 2022)\n",
        "for i in range(len(terminarz)):\n",
        "  print(terminarz[i], '\\n')\n",
        "\n"
      ]
    },
    {
      "cell_type": "code",
      "execution_count": 9,
      "metadata": {
        "colab": {
          "base_uri": "https://localhost:8080/"
        },
        "id": "ddxznjWLoNI1",
        "outputId": "d54172dd-ac8a-43d2-ba4d-56e7e6ef9b9d",
        "tags": []
      },
      "outputs": [
        {
          "name": "stdout",
          "output_type": "stream",
          "text": [
            "Poczatkowe najlepsze rozwiazanie 13\n",
            "[[1, array([1., 1., 1., 1., 1., 1., 1., 1., 1., 1.]), 0], [1, array([1., 1., 1., 1., 1., 1., 1., 1., 1., 1.]), 0], [1, array([0., 0., 1., 1., 1., 1., 1., 1., 1., 1.]), 0], [1, array([0., 0., 1., 1., 1., 1., 0., 0., 0., 0.]), 0], [1, array([0., 0., 1., 1., 0., 1., 0., 1., 0., 1.]), 0], [1, array([1., 0., 0., 1., 0., 1., 0., 1., 0., 0.]), 0], [1, array([0., 0., 0., 1., 1., 1., 0., 1., 0., 0.]), 0], [1, array([1., 0., 0., 1., 1., 0., 1., 0., 0., 0.]), 0], [1, array([1., 1., 0., 0., 0., 0., 0., 1., 1., 1.]), 0], [1, array([1., 0., 0., 1., 1., 1., 0., 0., 0., 1.]), 0], [1, array([0., 1., 1., 0., 0., 0., 1., 1., 0., 0.]), 0], [1, array([0., 1., 1., 1., 0., 0., 0., 1., 0., 0.]), 0], [1, array([1., 0., 1., 0., 0., 0., 1., 0., 0., 0.]), 0]]\n",
            "wykrylo ze jest nie ok else\n",
            "wykrylo ze jest nie ok kcal\n",
            "wykrylo ze jest nie ok kcal\n",
            "wykrylo ze jest nie ok kcal\n",
            "wykrylo ze jest nie ok kcal\n",
            "wykrylo ze jest nie ok else\n",
            "wykrylo ze jest nie ok kcal\n",
            "wykrylo ze jest nie ok kcal\n",
            "wykrylo ze jest nie ok else\n",
            "wykrylo ze jest nie ok kcal\n",
            "wykrylo ze jest nie ok kcal\n",
            "wykrylo ze jest nie ok kcal\n",
            "wykrylo ze jest nie ok kcal\n",
            "wykrylo ze jest nie ok kcal\n",
            "wykrylo ze jest nie ok kcal\n",
            "wykrylo ze jest nie ok kcal\n",
            "wykrylo ze jest nie ok kcal\n",
            "wykrylo ze jest nie ok kcal\n",
            "wykrylo ze jest nie ok kcal\n",
            "wykrylo ze jest nie ok kcal\n",
            "wykrylo ze jest nie ok kcal\n",
            "wykrylo ze jest nie ok else\n",
            "wykrylo ze jest nie ok kcal\n",
            "wykrylo ze jest nie ok kcal\n",
            "wykrylo ze jest nie ok kcal\n",
            "wykrylo ze jest nie ok else\n",
            "wykrylo ze jest nie ok kcal\n",
            "wykrylo ze jest nie ok kcal\n",
            "wykrylo ze jest nie ok else\n",
            "wykrylo ze jest nie ok kcal\n",
            "wykrylo ze jest nie ok else\n",
            "wykrylo ze jest nie ok else\n",
            "wykrylo ze jest nie ok kcal\n",
            "wykrylo ze jest nie ok kcal\n",
            "wykrylo ze jest nie ok kcal\n",
            "wykrylo ze jest nie ok else\n",
            "wykrylo ze jest nie ok kcal\n",
            "wykrylo ze jest nie ok kcal\n",
            "wykrylo ze jest nie ok kcal\n",
            "wykrylo ze jest nie ok kcal\n",
            "wykrylo ze jest nie ok else\n",
            "wykrylo ze jest nie ok else\n",
            "wykrylo ze jest nie ok kcal\n",
            "wykrylo ze jest nie ok kcal\n",
            "wykrylo ze jest nie ok kcal\n",
            "wykrylo ze jest nie ok else\n",
            "wykrylo ze jest nie ok kcal\n",
            "wykrylo ze jest nie ok kcal\n",
            "wykrylo ze jest nie ok kcal\n",
            "wykrylo ze jest nie ok kcal\n",
            "wykrylo ze jest nie ok kcal\n",
            "wykrylo ze jest nie ok kcal\n",
            "wykrylo ze jest nie ok kcal\n",
            "wykrylo ze jest nie ok kcal\n",
            "wykrylo ze jest nie ok kcal\n",
            "wykrylo ze jest nie ok kcal\n",
            "wykrylo ze jest nie ok kcal\n",
            "wykrylo ze jest nie ok kcal\n",
            "wykrylo ze jest nie ok kcal\n",
            "wykrylo ze jest nie ok kcal\n",
            "wykrylo ze jest nie ok kcal\n",
            "wykrylo ze jest nie ok kcal\n",
            "wykrylo ze jest nie ok kcal\n",
            "wykrylo ze jest nie ok kcal\n",
            "wykrylo ze jest nie ok kcal\n",
            "wykrylo ze jest nie ok kcal\n",
            "wykrylo ze jest nie ok kcal\n",
            "wykrylo ze jest nie ok kcal\n",
            "wykrylo ze jest nie ok kcal\n",
            "wykrylo ze jest nie ok kcal\n",
            "wykrylo ze jest nie ok kcal\n",
            "wykrylo ze jest nie ok kcal\n",
            "wykrylo ze jest nie ok kcal\n",
            "wykrylo ze jest nie ok kcal\n",
            "wykrylo ze jest nie ok kcal\n",
            "rowz NIE w liscie tabu \t 76\n",
            "Najlepsze rozwiazanie\t:  6\n",
            "[[1, array([1., 1., 1., 1., 1., 1., 1., 1., 1., 1.]), 0], [1, array([1., 1., 1., 1., 1., 1., 1., 1., 1., 1.]), 0], [0, array([0., 0., 0., 0., 0., 0., 0., 0., 0., 0.]), 0], [1, array([1., 1., 1., 1., 1., 1., 1., 1., 1., 1.]), 0], [0, array([0., 0., 0., 0., 0., 0., 0., 0., 0., 0.]), 0], [1, array([1., 1., 1., 1., 1., 1., 1., 1., 1., 1.]), 0], [0, array([0., 0., 0., 0., 0., 0., 0., 0., 0., 0.]), 0], [0, array([0., 0., 0., 0., 0., 0., 0., 0., 0., 0.]), 0], [1, array([1., 1., 1., 1., 1., 1., 1., 1., 1., 1.]), 0], [0, array([0., 0., 0., 0., 0., 0., 0., 0., 0., 0.]), 0], [1, array([1., 1., 1., 1., 1., 1., 1., 1., 1., 1.]), 0], [0, array([0., 0., 0., 0., 0., 0., 0., 0., 0., 0.]), 0], [0, array([0., 0., 0., 0., 0., 0., 0., 0., 0., 0.]), 0]]\n",
            "Kolejne rozwiazania: \t 6\n",
            "[[1, array([1., 1., 1., 1., 1., 1., 1., 1., 1., 1.]), 0], [1, array([1., 1., 1., 1., 1., 1., 1., 1., 1., 1.]), 0], [0, array([0., 0., 0., 0., 0., 0., 0., 0., 0., 0.]), 0], [1, array([1., 1., 1., 1., 1., 1., 1., 1., 1., 1.]), 0], [0, array([0., 0., 0., 0., 0., 0., 0., 0., 0., 0.]), 0], [1, array([1., 1., 1., 1., 1., 1., 1., 1., 1., 1.]), 0], [0, array([0., 0., 0., 0., 0., 0., 0., 0., 0., 0.]), 0], [0, array([0., 0., 0., 0., 0., 0., 0., 0., 0., 0.]), 0], [1, array([1., 1., 1., 1., 1., 1., 1., 1., 1., 1.]), 0], [0, array([0., 0., 0., 0., 0., 0., 0., 0., 0., 0.]), 0], [1, array([1., 1., 1., 1., 1., 1., 1., 1., 1., 1.]), 0], [0, array([0., 0., 0., 0., 0., 0., 0., 0., 0., 0.]), 0], [0, array([0., 0., 0., 0., 0., 0., 0., 0., 0., 0.]), 0]]\n",
            "wykrylo ze jest nie ok else\n",
            "rowz NIE w liscie tabu \t 78\n",
            "NIE najlepsze rozwiazanie\t 6\n",
            "[[1, array([1., 1., 1., 1., 1., 1., 1., 1., 1., 1.]), 0], [1, array([1., 1., 1., 1., 1., 1., 1., 1., 1., 1.]), 0], [0, array([0., 0., 0., 0., 0., 0., 0., 0., 0., 0.]), 0], [1, array([1., 1., 1., 1., 1., 1., 1., 1., 1., 1.]), 0], [0, array([0., 0., 0., 0., 0., 0., 0., 0., 0., 0.]), 0], [0, array([0., 0., 0., 0., 0., 0., 0., 0., 0., 0.]), 0], [1, array([1., 1., 1., 1., 1., 1., 1., 1., 1., 1.]), 0], [0, array([0., 0., 0., 0., 0., 0., 0., 0., 0., 0.]), 0], [1, array([1., 1., 1., 1., 1., 1., 1., 1., 1., 1.]), 0], [0, array([0., 0., 0., 0., 0., 0., 0., 0., 0., 0.]), 0], [0, array([0., 0., 0., 0., 0., 0., 0., 0., 0., 0.]), 0], [1, array([1., 1., 1., 1., 1., 1., 1., 1., 1., 1.]), 0], [0, array([0., 0., 0., 0., 0., 0., 0., 0., 0., 0.]), 0]]\n",
            "wykrylo ze jest nie ok else\n",
            "wykrylo ze jest nie ok else\n",
            "wykrylo ze jest nie ok else\n",
            "wykrylo ze jest nie ok else\n",
            "wykrylo ze jest nie ok kcal\n",
            "wykrylo ze jest nie ok kcal\n",
            "rowz NIE w liscie tabu \t 85\n",
            "NIE najlepsze rozwiazanie\t 6\n",
            "[[1, array([1., 1., 1., 1., 1., 1., 1., 1., 1., 1.]), 0], [1, array([1., 1., 1., 1., 1., 1., 1., 1., 1., 1.]), 0], [0, array([0., 0., 0., 0., 0., 0., 0., 0., 0., 0.]), 0], [1, array([1., 1., 1., 1., 1., 1., 1., 1., 1., 1.]), 0], [0, array([0., 0., 0., 0., 0., 0., 0., 0., 0., 0.]), 0], [0, array([0., 0., 0., 0., 0., 0., 0., 0., 0., 0.]), 0], [1, array([1., 1., 1., 1., 1., 1., 1., 1., 1., 1.]), 0], [0, array([0., 0., 0., 0., 0., 0., 0., 0., 0., 0.]), 0], [1, array([1., 1., 1., 1., 1., 1., 1., 1., 1., 1.]), 0], [0, array([0., 0., 0., 0., 0., 0., 0., 0., 0., 0.]), 0], [0, array([0., 0., 0., 0., 0., 0., 0., 0., 0., 0.]), 0], [1, array([1., 1., 1., 1., 1., 1., 1., 1., 1., 1.]), 0], [0, array([0., 0., 0., 0., 0., 0., 0., 0., 0., 0.]), 0]]\n",
            "wykrylo ze jest nie ok else\n",
            "wykrylo ze jest nie ok else\n",
            "wykrylo ze jest nie ok else\n",
            "rowz NIE w liscie tabu \t 89\n",
            "NIE najlepsze rozwiazanie\t 6\n",
            "[[1, array([1., 1., 1., 1., 1., 1., 1., 1., 1., 1.]), 0], [1, array([1., 1., 1., 1., 1., 1., 1., 1., 1., 1.]), 0], [0, array([0., 0., 0., 0., 0., 0., 0., 0., 0., 0.]), 0], [1, array([1., 1., 1., 1., 1., 1., 1., 1., 1., 1.]), 0], [0, array([0., 0., 0., 0., 0., 0., 0., 0., 0., 0.]), 0], [0, array([0., 0., 0., 0., 0., 0., 0., 0., 0., 0.]), 0], [1, array([1., 1., 1., 1., 1., 1., 1., 1., 1., 1.]), 0], [0, array([0., 0., 0., 0., 0., 0., 0., 0., 0., 0.]), 0], [1, array([1., 1., 1., 1., 1., 1., 1., 1., 1., 1.]), 0], [0, array([0., 0., 0., 0., 0., 0., 0., 0., 0., 0.]), 0], [0, array([0., 0., 0., 0., 0., 0., 0., 0., 0., 0.]), 0], [1, array([1., 1., 1., 1., 1., 1., 1., 1., 1., 1.]), 0], [0, array([0., 0., 0., 0., 0., 0., 0., 0., 0., 0.]), 0]]\n",
            "rowz NIE w liscie tabu \t 90\n",
            "NIE najlepsze rozwiazanie\t 6\n",
            "[[1, array([1., 1., 1., 1., 1., 1., 1., 1., 1., 1.]), 0], [1, array([1., 1., 1., 1., 1., 1., 1., 1., 1., 1.]), 0], [0, array([0., 0., 0., 0., 0., 0., 0., 0., 0., 0.]), 0], [1, array([1., 1., 1., 1., 1., 1., 1., 1., 1., 1.]), 0], [0, array([0., 0., 0., 0., 0., 0., 0., 0., 0., 0.]), 0], [0, array([0., 0., 0., 0., 0., 0., 0., 0., 0., 0.]), 0], [1, array([1., 1., 1., 1., 1., 1., 1., 1., 1., 1.]), 0], [0, array([0., 0., 0., 0., 0., 0., 0., 0., 0., 0.]), 0], [1, array([1., 1., 1., 1., 1., 1., 1., 1., 1., 1.]), 0], [0, array([0., 0., 0., 0., 0., 0., 0., 0., 0., 0.]), 0], [1, array([1., 1., 1., 1., 1., 1., 1., 1., 1., 1.]), 0], [0, array([0., 0., 0., 0., 0., 0., 0., 0., 0., 0.]), 0], [0, array([0., 0., 0., 0., 0., 0., 0., 0., 0., 0.]), 0]]\n",
            "wykrylo ze jest nie ok else\n",
            "wykrylo ze jest nie ok kcal\n",
            "wykrylo ze jest nie ok kcal\n",
            "wykrylo ze jest nie ok else\n",
            "wykrylo ze jest nie ok kcal\n",
            "rowz NIE w liscie tabu \t 96\n",
            "NIE najlepsze rozwiazanie\t 6\n",
            "[[1, array([1., 1., 1., 1., 1., 1., 1., 1., 1., 1.]), 0], [1, array([1., 1., 1., 1., 1., 1., 1., 1., 1., 1.]), 0], [0, array([0., 0., 0., 0., 0., 0., 0., 0., 0., 0.]), 0], [1, array([1., 1., 1., 1., 1., 1., 1., 1., 1., 1.]), 0], [0, array([0., 0., 0., 0., 0., 0., 0., 0., 0., 0.]), 0], [1, array([1., 1., 1., 1., 1., 1., 1., 1., 1., 1.]), 0], [0, array([0., 0., 0., 0., 0., 0., 0., 0., 0., 0.]), 0], [0, array([0., 0., 0., 0., 0., 0., 0., 0., 0., 0.]), 0], [1, array([1., 1., 1., 1., 1., 1., 1., 1., 1., 1.]), 0], [0, array([0., 0., 0., 0., 0., 0., 0., 0., 0., 0.]), 0], [1, array([1., 1., 1., 1., 1., 1., 1., 1., 1., 1.]), 0], [0, array([0., 0., 0., 0., 0., 0., 0., 0., 0., 0.]), 0], [0, array([0., 0., 0., 0., 0., 0., 0., 0., 0., 0.]), 0]]\n",
            "wykrylo ze jest nie ok else\n",
            "wykrylo ze jest nie ok else\n",
            "rowz NIE w liscie tabu \t 99\n",
            "NIE najlepsze rozwiazanie\t 6\n",
            "[[1, array([1., 1., 1., 1., 1., 1., 1., 1., 1., 1.]), 0], [1, array([1., 1., 1., 1., 1., 1., 1., 1., 1., 1.]), 0], [0, array([0., 0., 0., 0., 0., 0., 0., 0., 0., 0.]), 0], [1, array([1., 1., 1., 1., 1., 1., 1., 1., 1., 1.]), 0], [0, array([0., 0., 0., 0., 0., 0., 0., 0., 0., 0.]), 0], [1, array([1., 1., 1., 1., 1., 1., 1., 1., 1., 1.]), 0], [0, array([0., 0., 0., 0., 0., 0., 0., 0., 0., 0.]), 0], [0, array([0., 0., 0., 0., 0., 0., 0., 0., 0., 0.]), 0], [1, array([1., 1., 1., 1., 1., 1., 1., 1., 1., 1.]), 0], [0, array([0., 0., 0., 0., 0., 0., 0., 0., 0., 0.]), 0], [1, array([1., 1., 1., 1., 1., 1., 1., 1., 1., 1.]), 0], [0, array([0., 0., 0., 0., 0., 0., 0., 0., 0., 0.]), 0], [0, array([0., 0., 0., 0., 0., 0., 0., 0., 0., 0.]), 0]]\n",
            "wykrylo ze jest nie ok kcal\n"
          ]
        }
      ],
      "source": [
        "l1 = lodowka(terminarz, df)\n",
        "\n",
        "l1.tabu_solution()\n",
        "# tab = []\n",
        "# for i in range(len(l1.initial_solution)):\n",
        "#   tab.append(l1.initial_solution[i][1])\n",
        "\n",
        "# print(tab)\n",
        "# print(l1.postac_do_rozwiazania(tab))\n",
        "# l1.check_kalorie()\n",
        "# print('\\n')\n",
        "# for i in range(len(l1.initial_solution)):\n",
        "#   print(l1.initial_solution[i])\n",
        "\n",
        "# to_print = l1.step1()\n",
        "# print(to_print)"
        "terminarz = returncalendar(3, 1, 2022, 31, 1, 2022)\n",
        "for i in range(len(terminarz)):\n",
        "  print(terminarz[i], '\\n')\n",
        "\n"
      ],
      "execution_count": 8,
      "outputs": [
        {
          "output_type": "stream",
          "name": "stdout",
          "text": [
            "(datetime.date(2022, 1, 3), 0, 7) \n",
            "\n",
            "(datetime.date(2022, 1, 4), 1, 7) \n",
            "\n",
            "(datetime.date(2022, 1, 5), 2, 7) \n",
            "\n",
            "(datetime.date(2022, 1, 6), 3, 0) \n",
            "\n",
            "(datetime.date(2022, 1, 7), 4, 7) \n",
            "\n",
            "(datetime.date(2022, 1, 8), 5, 7) \n",
            "\n",
            "(datetime.date(2022, 1, 9), 6, 0) \n",
            "\n",
            "(datetime.date(2022, 1, 10), 0, 7) \n",
            "\n",
            "(datetime.date(2022, 1, 11), 1, 7) \n",
            "\n",
            "(datetime.date(2022, 1, 12), 2, 7) \n",
            "\n",
            "(datetime.date(2022, 1, 13), 3, 7) \n",
            "\n",
            "(datetime.date(2022, 1, 14), 4, 7) \n",
            "\n",
            "(datetime.date(2022, 1, 15), 5, 7) \n",
            "\n",
            "(datetime.date(2022, 1, 16), 6, 0) \n",
            "\n",
            "(datetime.date(2022, 1, 17), 0, 7) \n",
            "\n",
            "(datetime.date(2022, 1, 18), 1, 7) \n",
            "\n",
            "(datetime.date(2022, 1, 19), 2, 7) \n",
            "\n",
            "(datetime.date(2022, 1, 20), 3, 7) \n",
            "\n",
            "(datetime.date(2022, 1, 21), 4, 7) \n",
            "\n",
            "(datetime.date(2022, 1, 22), 5, 7) \n",
            "\n",
            "(datetime.date(2022, 1, 23), 6, 0) \n",
            "\n",
            "(datetime.date(2022, 1, 24), 0, 7) \n",
            "\n",
            "(datetime.date(2022, 1, 25), 1, 7) \n",
            "\n",
            "(datetime.date(2022, 1, 26), 2, 7) \n",
            "\n",
            "(datetime.date(2022, 1, 27), 3, 7) \n",
            "\n",
            "(datetime.date(2022, 1, 28), 4, 7) \n",
            "\n",
            "(datetime.date(2022, 1, 29), 5, 7) \n",
            "\n",
            "(datetime.date(2022, 1, 30), 6, 0) \n",
            "\n",
            "(datetime.date(2022, 1, 31), 0, 7) \n",
            "\n"
          ]
        }
      ]
    },
    {
      "cell_type": "code",
      "execution_count": 10,
      "metadata": {
        "id": "e7z-ALv_lOzq",
        "tags": []
      },
      "outputs": [],
      "source": [
        "# print(\"Rozw1\\t\", to_print)\n",
        "# l1.tabu_list.append(to_print)\n",
        "# print(\"tabu list1:\\t\", l1.tabu_list)\n",
        "# print(l1.check_current_sol_in_tabu_list(l1.tabu_list, to_print))\n",
        "# to_print_1 = l1.step1()\n",
        "# print(\"Rozw2\\t\", to_print_1)\n",
        "# print(\"tabu list1:\\t\", l1.tabu_list)\n",
        "# print(l1.check_current_sol_in_tabu_list(l1.tabu_list, to_print_1))\n"
      ]
    },
    {
      "cell_type": "code",
      "execution_count": 11,
      "metadata": {
        "id": "VgB0Ie_yth4D"
      },
      "outputs": [],
      "source": [
        "# print(to_print.all() == to_print_1.all())"
      ]
    },
    {
      "cell_type": "code",
      "execution_count": 12,
      "metadata": {
        "colab": {
          "base_uri": "https://localhost:8080/"
        },
        "id": "y-EiIqzXlOzr",
        "outputId": "7a9b35ac-647a-49e1-da7e-1e7f5955be50",
        "tags": []
      },
      "outputs": [
        {
          "name": "stdout",
          "output_type": "stream",
          "text": [
            "[[0 1 1 0 1]\n",
            " [0 1 1 0 0]\n",
            " [0 1 1 1 0]\n",
            " [0 0 0 1 0]\n",
            " [1 1 1 0 1]]\n",
            "[array([[0, 1, 1, 0, 1],\n",
            "       [0, 1, 1, 0, 0],\n",
            "       [0, 1, 1, 1, 0],\n",
            "       [0, 0, 0, 1, 0],\n",
            "       [1, 1, 1, 0, 1]]), array([[0, 1, 1, 0, 1],\n",
            "       [0, 1, 1, 1, 0],\n",
            "       [0, 1, 0, 1, 0],\n",
            "       [0, 0, 0, 1, 0],\n",
            "       [1, 1, 1, 0, 1]])]\n",
            "True\n",
            "[[0 1 1 0 1]\n",
            " [0 1 1 1 0]\n",
            " [0 1 0 1 0]\n",
            " [0 0 0 1 0]\n",
            " [1 1 1 0 1]]\n",
            "True\n",
            "[array([[0, 1, 1, 0, 1],\n",
            "       [0, 1, 1, 0, 0],\n",
            "       [0, 1, 1, 1, 0],\n",
            "       [0, 0, 0, 1, 0],\n",
            "       [1, 1, 1, 0, 1]]), array([[0, 1, 1, 0, 1],\n",
            "       [0, 1, 1, 1, 0],\n",
            "       [0, 1, 0, 1, 0],\n",
            "       [0, 0, 0, 1, 0],\n",
            "       [1, 1, 1, 0, 1]])]\n"
          ]
        }
      ],
      "source": [
        "# Test check solution in tabu list\n",
        "lst = []\n",
        "lst_1 = np.array([[0, 1, 1, 0, 1], [0, 1, 1, 0 , 0], [0, 1, 1, 1, 0], [0, 0, 0, 1, 0], [1, 1, 1, 0, 1]])\n",
        "lst_2 = np.array([[0, 1, 1, 0, 1], [0, 1, 1, 1 , 0], [0, 1, 0, 1, 0], [0, 0, 0, 1, 0], [1, 1, 1, 0, 1]])\n",
        "lst.append(lst_1)\n",
        "lst.append(lst_2)\n",
        "l2 = lodowka(terminarz, df)\n",
        "l2.tabu_list = lst\n",
        "print(lst_1)\n",
        "print(lst)\n",
        "print(l2.check_current_sol_in_tabu_list(l2.tabu_list, lst_1))\n",
        "# lst_2 = np.array([[0, 0, 1, 0, 1], [0, 1, 1, 0 , 0], [0, 1, 1, 1, 0], [0, 0, 0, 1, 0], [1, 1, 1, 0, 1]])\n",
        "print(lst_2)\n",
        "\n",
        "print(l2.check_current_sol_in_tabu_list(l2.tabu_list, lst_2))\n",
        "print(lst)"
      ]
    },
    {
      "cell_type": "code",
      "execution_count": 13,
      "metadata": {
        "id": "k4xkPGZelOzs"
      },
      "outputs": [],
      "source": [
        "# l1.check_weight(to_print)"
      ]
    },
    {
      "cell_type": "code",
      "execution_count": 14,
      "metadata": {
        "colab": {
          "base_uri": "https://localhost:8080/"
        },
        "id": "kswgsGbsssX2",
        "outputId": "8a6d872b-175d-4b8b-c30b-a4ae50466767"
      },
      "outputs": [
        {
          "data": {
            "text/plain": [
              "([10.0,\n",
              "  15.0,\n",
              "  20.0,\n",
              "  20.0,\n",
              "  20.0,\n",
              "  20.0,\n",
              "  20.0,\n",
              "  20.0,\n",
              "  20.0,\n",
              "  20.0,\n",
              "  20.0,\n",
              "  20.0,\n",
              "  20.0],\n",
              " [0, 0, 0, 0, 0, 0, 0, 0, 0, 0, 0, 0, 0])"
            ]
          },
          "execution_count": 14,
          "metadata": {},
          "output_type": "execute_result"
        }
      ],
      "source": [
        "l1.check_capacity()"
        "id": "ddxznjWLoNI1",
        "outputId": "77ef27ec-bce6-4642-9768-1cdddf010184"
      },
      "source": [
        "l1 = lodowka(terminarz, df)\n",
        "for i in range(len(l1.initial_solution)):\n",
        "  print(l1.initial_solution[i])\n",
        "l1.check_kalorie()\n",
        "print('\\n')\n",
        "for i in range(len(l1.initial_solution)):\n",
        "  print(l1.initial_solution[i])"
      ],
      "execution_count": 11,
      "outputs": [
        {
          "output_type": "stream",
          "name": "stdout",
          "text": [
            "[1, [1, 0, 0, 0, 0, 0, 1, 0, 1, 1], 0]\n",
            "[1, [1, 0, 1, 1, 0, 0, 1, 0, 0, 1], 0]\n",
            "[1, [0, 0, 1, 0, 1, 0, 0, 1, 1, 0], 0]\n",
            "[0, [0, 0, 0, 0, 0, 0, 0, 0, 0, 0], -3000]\n",
            "[1, [1, 0, 0, 0, 0, 1, 0, 0, 0, 1], -190.0]\n",
            "[1, [1, 1, 1, 0, 0, 0, 0, 0, 1, 1], 0]\n",
            "[0, [0, 0, 0, 0, 0, 0, 0, 0, 0, 0], -2429.0]\n",
            "[1, [0, 0, 0, 0, 1, 0, 1, 0, 1, 1], 0]\n",
            "[1, [1, 1, 0, 0, 1, 1, 0, 0, 1, 0], 0]\n",
            "[1, [1, 1, 0, 1, 1, 0, 1, 1, 0, 0], 0]\n",
            "[1, [1, 1, 1, 1, 0, 1, 1, 1, 0, 0], 0]\n",
            "[1, [0, 0, 1, 0, 1, 0, 0, 1, 1, 0], 0]\n",
            "[1, [0, 0, 1, 1, 1, 0, 0, 0, 0, 1], 0]\n",
            "[0, [0, 0, 0, 0, 0, 0, 0, 0, 0, 0], 0]\n",
            "[1, [0, 1, 0, 1, 0, 0, 1, 1, 1, 1], 0]\n",
            "[1, [0, 0, 1, 0, 1, 0, 0, 0, 0, 1], 0]\n",
            "[1, [1, 0, 0, 0, 0, 1, 1, 0, 1, 0], 0]\n",
            "[1, [0, 0, 1, 0, 0, 0, 1, 0, 1, 1], 0]\n",
            "[1, [0, 0, 1, 1, 0, 1, 1, 0, 1, 0], 0]\n",
            "[1, [1, 0, 0, 1, 0, 1, 0, 0, 0, 1], 0]\n",
            "[0, [0, 0, 0, 0, 0, 0, 0, 0, 0, 0], -1359.0]\n",
            "[1, [1, 0, 1, 1, 0, 1, 1, 1, 0, 0], 0]\n",
            "[1, [1, 1, 1, 0, 0, 1, 0, 0, 0, 0], 0]\n",
            "[1, [1, 1, 1, 1, 0, 0, 1, 1, 1, 0], 0]\n",
            "[1, [0, 1, 1, 0, 0, 0, 0, 1, 1, 1], 0]\n",
            "[1, [0, 1, 0, 1, 0, 0, 0, 1, 1, 1], 0]\n",
            "[1, [1, 1, 0, 1, 1, 0, 0, 0, 0, 1], 0]\n",
            "[0, [0, 0, 0, 0, 0, 0, 0, 0, 0, 0], 0]\n",
            "[1, [0, 0, 1, 0, 0, 0, 0, 0, 1, 1], 0]\n",
            "\n",
            "\n",
            "[1, [1, 0, 0, 0, 0, 0, 1, 0, 1, 1], 0]\n",
            "[1, [1, 0, 1, 1, 0, 0, 1, 0, 0, 1], 0]\n",
            "[1, [0, 0, 1, 0, 1, 0, 0, 1, 1, 0], 0]\n",
            "[1, [1, 1, 0, 1, 0, 0, 0, 1, 0, 0], 0]\n",
            "[1, [1, 0, 0, 1, 0, 1, 0, 0, 0, 1], 0]\n",
            "[1, [1, 1, 1, 0, 0, 0, 0, 0, 1, 1], 0]\n",
            "[1, [1, 1, 0, 1, 0, 0, 0, 1, 0, 0], 0]\n",
            "[1, [0, 0, 0, 0, 1, 0, 1, 0, 1, 1], 0]\n",
            "[1, [1, 1, 0, 0, 1, 1, 0, 0, 1, 0], 0]\n",
            "[1, [1, 1, 0, 1, 1, 0, 1, 1, 0, 0], 0]\n",
            "[1, [1, 1, 1, 1, 0, 1, 1, 1, 0, 0], 0]\n",
            "[1, [0, 0, 1, 0, 1, 0, 0, 1, 1, 0], 0]\n",
            "[1, [0, 0, 1, 1, 1, 0, 0, 0, 0, 1], 0]\n",
            "[0, [0, 0, 0, 0, 0, 0, 0, 0, 0, 0], 0]\n",
            "[1, [0, 1, 0, 1, 0, 0, 1, 1, 1, 1], 0]\n",
            "[1, [0, 0, 1, 0, 1, 0, 0, 0, 0, 1], 0]\n",
            "[1, [1, 0, 0, 0, 0, 1, 1, 0, 1, 0], 0]\n",
            "[1, [0, 0, 1, 0, 0, 0, 1, 0, 1, 1], 0]\n",
            "[1, [0, 0, 1, 1, 0, 1, 1, 0, 1, 0], 0]\n",
            "[1, [1, 0, 0, 1, 0, 1, 0, 0, 0, 1], 0]\n",
            "[1, [1, 0, 0, 1, 0, 0, 0, 0, 0, 0], 0]\n",
            "[1, [1, 0, 1, 1, 0, 1, 1, 1, 0, 0], 0]\n",
            "[1, [1, 1, 1, 0, 0, 1, 0, 0, 0, 0], 0]\n",
            "[1, [1, 1, 1, 1, 0, 0, 1, 1, 1, 0], 0]\n",
            "[1, [0, 1, 1, 0, 0, 0, 0, 1, 1, 1], 0]\n",
            "[1, [0, 1, 0, 1, 0, 0, 0, 1, 1, 1], 0]\n",
            "[1, [1, 1, 0, 1, 1, 0, 0, 0, 0, 1], 0]\n",
            "[0, [0, 0, 0, 0, 0, 0, 0, 0, 0, 0], 0]\n",
            "[1, [0, 0, 1, 0, 0, 0, 0, 0, 1, 1], 0]\n"
          ]
        }
      ]
    },
    {
      "cell_type": "markdown",
      "metadata": {
        "id": "LB1DrZuiWntL"
      },
      "source": [
        "# Garbage\n",
        "\n"
      ]
    },
    {
      "cell_type": "code",
      "execution_count": 15,
      "metadata": {
        "colab": {
          "base_uri": "https://localhost:8080/"
        },
        "id": "Nb4pCeYcdFAg",
        "outputId": "9075e378-1b48-4c7b-beba-103aafc09e16",
        "tags": []
      },
      "outputs": [
        {
          "name": "stdout",
          "output_type": "stream",
      "metadata": {
        "id": "Nb4pCeYcdFAg",
        "colab": {
          "base_uri": "https://localhost:8080/"
        },
        "outputId": "91863b95-0e90-4fc2-87a4-0676a4970a16"
      },
      "source": [
        "## easter\n",
        "from dateutil.easter import *\n",
        "from datetime import timedelta\n",
        "year = 1994\n",
        "print((easter(year)))\n",
        "print((easter(year)+timedelta(60)))\n"
      ],
      "execution_count": 9,
      "outputs": [
        {
          "output_type": "stream",
          "name": "stdout",
          "text": [
            "1994-04-03\n",
            "1994-06-02\n"
          ]
        }
      ],
      "source": [
        "## easter\n",
        "from dateutil.easter import *\n",
        "from datetime import timedelta\n",
        "year = 1994\n",
        "print((easter(year)))\n",
        "print((easter(year)+timedelta(60)))\n"
      ]
    },
    {
      "cell_type": "code",
      "execution_count": 16,
      "metadata": {
        "id": "MkKAKH8JczmI"
      },
      "outputs": [],
      "metadata": {
        "id": "MkKAKH8JczmI"
      },
      "source": [
        "# Tabu Search\n",
        "\n",
        "# STEP 0\n",
        "\n",
        "# def generate_initial_solution(terminarz, lista_produktow) -> np.ndarray:\n",
        "#   initial_solution = []\n",
        "#   lista_produktow = lista_produktow.to_numpy()\n",
        "#   for i in range(len(terminarz)):\n",
        "#     if terminarz[i][2] != 0:\n",
        "#       initial_solution.append([ np.random.randint(0, 2), [] ])\n",
        "#     else:\n",
        "#       initial_solution.append([ 0, [] ]) \n",
        "\n",
        "#   for i in range(len(initial_solution)):\n",
        "#     if initial_solution[i][0] != 0:\n",
        "#       for j in range(len(lista_produktow)):\n",
        "#         initial_solution[i][1].append(np.random.randint(0, 2)) #ewentualnie mozna brac wiecej (randint (0, x))\n",
        "  \n",
        "  \n",
        "  \n",
        "#   return initial_solution\n",
        "\n",
        "# generate_initial_solution(terminarz, df)\n"
      ]
    },
    {
      "cell_type": "code",
      "execution_count": 17,
      "metadata": {
        "colab": {
          "base_uri": "https://localhost:8080/"
        },
        "id": "ywbX2gc6W_wu",
        "outputId": "df6d5fcf-0348-4b85-9b6e-ab1eb0f8af45"
      },
      "outputs": [
        {
          "data": {
            "text/plain": [
              "[2, 8, 5, 1, 6, 9, 7, 0, 3, 4]"
            ]
          },
          "execution_count": 17,
          "metadata": {},
          "output_type": "execute_result"
        }
      ],
      ],
      "execution_count": 10,
      "outputs": []
    },
    {
      "cell_type": "code",
      "metadata": {
        "id": "ywbX2gc6W_wu",
        "colab": {
          "base_uri": "https://localhost:8080/"
        },
        "outputId": "b37d922f-f281-4523-b63d-b8e4e2062eca"
      },
      "source": [
        "\n",
        "#### GARBAGE\n",
        "  # obj = calendar.Calendar()\n",
        "  # obj1 = calendar.TextCalendar()\n",
        "  # print(obj1.formatmonth(year, month))\n",
        "\n",
        "  # for day in obj.itermonthdays(year, month):\n",
        "  #   print(day)\n",
        "\n",
        "# year, month = 2017, 3\n",
        "# obj = calendar.Calendar()\n",
        "# obj1 = calendar.TextCalendar()\n",
        "# print(obj1.formatmonth(year, month))\n",
        "\n",
        "# for day in obj.itermonthdays(year, month):\n",
        "#   print(day)\n",
        "# deck = list(range(0, 10))\n",
        "# deck = list(range(1, 10001))\n",
        "# random.shuffle(deck)\n",
        "import random\n",
        "random.sample(range(10), 10)"
      ]
    },
    {
      "cell_type": "code",
      "execution_count": 18,
      "metadata": {
        "colab": {
          "base_uri": "https://localhost:8080/"
        },
        "id": "zc5nrszjvkvn",
        "outputId": "933e8b17-daf2-4398-d11d-0cb08bb2c1ff"
      },
      "outputs": [
        {
          "data": {
            "text/plain": [
              "13"
            ]
          },
          "execution_count": 18,
          "metadata": {},
          "output_type": "execute_result"
        }
      ],
      "source": [
        "# np.random.randint(1, 5) \n",
        "len(l1.initial_solution)"
      ]
    }
  ],
  "metadata": {
    "colab": {
      "collapsed_sections": [],
      "name": "BO2 (5).ipynb",
      "provenance": []
    },
    "kernelspec": {
      "display_name": "Python 3",
      "name": "python3"
    },
    "language_info": {
      "codemirror_mode": {
        "name": "ipython",
        "version": 3
      },
      "file_extension": ".py",
      "mimetype": "text/x-python",
      "name": "python",
      "nbconvert_exporter": "python",
      "pygments_lexer": "ipython3",
      "version": "3.8.5"
    }
  },
  "nbformat": 4,
  "nbformat_minor": 0
}
      ],
      "execution_count": 12,
      "outputs": [
        {
          "output_type": "execute_result",
          "data": {
            "text/plain": [
              "[9, 4, 0, 1, 3, 2, 6, 5, 8, 7]"
            ]
          },
          "metadata": {},
          "execution_count": 12
        }
      ]
    }
  ]
}
