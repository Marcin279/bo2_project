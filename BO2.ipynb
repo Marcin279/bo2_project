{
  "nbformat": 4,
  "nbformat_minor": 0,
  "metadata": {
    "colab": {
      "name": "BO2.ipynb",
      "provenance": [],
      "collapsed_sections": []
    },
    "kernelspec": {
      "name": "python3",
      "display_name": "Python 3"
    },
    "language_info": {
      "name": "python"
    }
  },
  "cells": [
    {
      "cell_type": "code",
      "metadata": {
        "id": "96Bo0vGSHjfH"
      },
      "source": [
        "import numpy as np\n",
        "import pandas as pd"
      ],
      "execution_count": null,
      "outputs": []
    },
    {
      "cell_type": "code",
      "metadata": {
        "id": "5Or4zmQhHuq3",
        "colab": {
          "base_uri": "https://localhost:8080/"
        },
        "outputId": "cdc0b731-b7b9-43e1-d81e-4996c468a01b"
      },
      "source": [
        "#dane\n",
        "\n",
        "\n",
        "tabela_produktow = [f\"Produkt{i+1}\" for i in range(10)]\n",
        "print(tabela_produktow)\n",
        "\n",
        "# tabele zczytywac z excela c(wartociowosc od wagi od czegos dodatkowego np kalorie)\n",
        "# ograniczenie plecaka tez (czy robic funkcje ktora wylicza ktore dni sa niehandlowe (niedziele i swieta))"
      ],
      "execution_count": null,
      "outputs": [
        {
          "output_type": "stream",
          "name": "stdout",
          "text": [
            "['Produkt1', 'Produkt2', 'Produkt3', 'Produkt4', 'Produkt5', 'Produkt6', 'Produkt7', 'Produkt8', 'Produkt9', 'Produkt10']\n"
          ]
        }
      ]
    },
    {
      "cell_type": "code",
      "metadata": {
        "colab": {
          "base_uri": "https://localhost:8080/"
        },
        "id": "0Kq-4EqHNzHD",
        "outputId": "d8e338a6-a4c5-460f-a4b7-324df6d8962f"
      },
      "source": [
        "tabela_wartosciowosc_kalorie = np.random.randint(low=10, high=1000, size=10)\n",
        "tabela_wartosciowosc_przydatnosc = np.random.randint(low=0, high=2, size=10)\n",
        "tabela_wag = np.round(np.random.random(10) * 5, 2)\n",
        "\n",
        "print(tabela_wartosciowosc_kalorie)\n",
        "print(tabela_wartosciowosc_przydatnosc)\n",
        "print(tabela_wag)\n",
        "\n",
        "\n"
      ],
      "execution_count": null,
      "outputs": [
        {
          "output_type": "stream",
          "name": "stdout",
          "text": [
            "[567  68 325 260 657 979 436 675 534  72]\n",
            "[1 1 1 1 0 0 0 0 0 0]\n",
            "[0.17 1.27 1.66 2.14 4.66 0.32 2.42 0.93 4.08 2.63]\n"
          ]
        }
      ]
    },
    {
      "cell_type": "code",
      "metadata": {
        "colab": {
          "base_uri": "https://localhost:8080/",
          "height": 363
        },
        "id": "Di0PYDbfcCxf",
        "outputId": "9c4bbb54-0927-4676-ddc4-2e59ecc2bd9b"
      },
      "source": [
        "tabela_merge = {}\n",
        "for i in range(len(tabela_produktow)):\n",
        "  tabela_merge[tabela_produktow[i]] = [tabela_wag[i], tabela_wartosciowosc_kalorie[i], tabela_wartosciowosc_przydatnosc[i]]\n",
        "\n",
        "# print(tabela_merge)\n",
        "\n",
        "df = pd.DataFrame(tabela_merge).transpose()\n",
        "df.rename(columns={0: \"waga\", 1: \"wartosciowosc\", 2:\"przydatnosc\"})\n"
      ],
      "execution_count": null,
      "outputs": [
        {
          "output_type": "execute_result",
          "data": {
            "text/html": [
              "<div>\n",
              "<style scoped>\n",
              "    .dataframe tbody tr th:only-of-type {\n",
              "        vertical-align: middle;\n",
              "    }\n",
              "\n",
              "    .dataframe tbody tr th {\n",
              "        vertical-align: top;\n",
              "    }\n",
              "\n",
              "    .dataframe thead th {\n",
              "        text-align: right;\n",
              "    }\n",
              "</style>\n",
              "<table border=\"1\" class=\"dataframe\">\n",
              "  <thead>\n",
              "    <tr style=\"text-align: right;\">\n",
              "      <th></th>\n",
              "      <th>waga</th>\n",
              "      <th>wartosciowosc</th>\n",
              "      <th>przydatnosc</th>\n",
              "    </tr>\n",
              "  </thead>\n",
              "  <tbody>\n",
              "    <tr>\n",
              "      <th>Produkt1</th>\n",
              "      <td>0.17</td>\n",
              "      <td>567.0</td>\n",
              "      <td>1.0</td>\n",
              "    </tr>\n",
              "    <tr>\n",
              "      <th>Produkt2</th>\n",
              "      <td>1.27</td>\n",
              "      <td>68.0</td>\n",
              "      <td>1.0</td>\n",
              "    </tr>\n",
              "    <tr>\n",
              "      <th>Produkt3</th>\n",
              "      <td>1.66</td>\n",
              "      <td>325.0</td>\n",
              "      <td>1.0</td>\n",
              "    </tr>\n",
              "    <tr>\n",
              "      <th>Produkt4</th>\n",
              "      <td>2.14</td>\n",
              "      <td>260.0</td>\n",
              "      <td>1.0</td>\n",
              "    </tr>\n",
              "    <tr>\n",
              "      <th>Produkt5</th>\n",
              "      <td>4.66</td>\n",
              "      <td>657.0</td>\n",
              "      <td>0.0</td>\n",
              "    </tr>\n",
              "    <tr>\n",
              "      <th>Produkt6</th>\n",
              "      <td>0.32</td>\n",
              "      <td>979.0</td>\n",
              "      <td>0.0</td>\n",
              "    </tr>\n",
              "    <tr>\n",
              "      <th>Produkt7</th>\n",
              "      <td>2.42</td>\n",
              "      <td>436.0</td>\n",
              "      <td>0.0</td>\n",
              "    </tr>\n",
              "    <tr>\n",
              "      <th>Produkt8</th>\n",
              "      <td>0.93</td>\n",
              "      <td>675.0</td>\n",
              "      <td>0.0</td>\n",
              "    </tr>\n",
              "    <tr>\n",
              "      <th>Produkt9</th>\n",
              "      <td>4.08</td>\n",
              "      <td>534.0</td>\n",
              "      <td>0.0</td>\n",
              "    </tr>\n",
              "    <tr>\n",
              "      <th>Produkt10</th>\n",
              "      <td>2.63</td>\n",
              "      <td>72.0</td>\n",
              "      <td>0.0</td>\n",
              "    </tr>\n",
              "  </tbody>\n",
              "</table>\n",
              "</div>"
            ],
            "text/plain": [
              "           waga  wartosciowosc  przydatnosc\n",
              "Produkt1   0.17          567.0          1.0\n",
              "Produkt2   1.27           68.0          1.0\n",
              "Produkt3   1.66          325.0          1.0\n",
              "Produkt4   2.14          260.0          1.0\n",
              "Produkt5   4.66          657.0          0.0\n",
              "Produkt6   0.32          979.0          0.0\n",
              "Produkt7   2.42          436.0          0.0\n",
              "Produkt8   0.93          675.0          0.0\n",
              "Produkt9   4.08          534.0          0.0\n",
              "Produkt10  2.63           72.0          0.0"
            ]
          },
          "metadata": {},
          "execution_count": 34
        }
      ]
    },
    {
      "cell_type": "code",
      "metadata": {
        "id": "_3UCp4IMQfZ-"
      },
      "source": [
        "# Ograniczenia\n",
        "x0 = 0 # poczatkowy stan lodowki\n",
        "x_max = 10 # maksymalna ilosc produktow w lodowce w danym momencie\n",
        "x_1 = 1 # maksymalna ilosc tego samego produktu\n",
        "N = 365 #tbd\n",
        "a_n = 20 # kg maksymalna pojemnosc_plecaka\n",
        "b = 3000 # Zapotrzebowanie kaloryczne w danym dniu - w każdym dniu tyle samo\n",
        "\n",
        "\n",
        "\n"
      ],
      "execution_count": null,
      "outputs": []
    },
    {
      "cell_type": "code",
      "metadata": {
        "colab": {
          "base_uri": "https://localhost:8080/"
        },
        "id": "gTo6Z4d5R0-y",
        "outputId": "fe1e19f2-3c00-4647-981c-cf1158e58343"
      },
      "source": [
        "import calendar\n",
        "   \n",
        "yy = 2017\n",
        "   \n",
        "# display the calendar\n",
        "print(calendar.calendar(2018, 2, 1, 6))\n"
      ],
      "execution_count": null,
      "outputs": [
        {
          "output_type": "stream",
          "name": "stdout",
          "text": [
            "                                  2018\n",
            "\n",
            "      January                   February                   March\n",
            "Mo Tu We Th Fr Sa Su      Mo Tu We Th Fr Sa Su      Mo Tu We Th Fr Sa Su\n",
            " 1  2  3  4  5  6  7                1  2  3  4                1  2  3  4\n",
            " 8  9 10 11 12 13 14       5  6  7  8  9 10 11       5  6  7  8  9 10 11\n",
            "15 16 17 18 19 20 21      12 13 14 15 16 17 18      12 13 14 15 16 17 18\n",
            "22 23 24 25 26 27 28      19 20 21 22 23 24 25      19 20 21 22 23 24 25\n",
            "29 30 31                  26 27 28                  26 27 28 29 30 31\n",
            "\n",
            "       April                      May                       June\n",
            "Mo Tu We Th Fr Sa Su      Mo Tu We Th Fr Sa Su      Mo Tu We Th Fr Sa Su\n",
            "                   1          1  2  3  4  5  6                   1  2  3\n",
            " 2  3  4  5  6  7  8       7  8  9 10 11 12 13       4  5  6  7  8  9 10\n",
            " 9 10 11 12 13 14 15      14 15 16 17 18 19 20      11 12 13 14 15 16 17\n",
            "16 17 18 19 20 21 22      21 22 23 24 25 26 27      18 19 20 21 22 23 24\n",
            "23 24 25 26 27 28 29      28 29 30 31               25 26 27 28 29 30\n",
            "30\n",
            "\n",
            "        July                     August                  September\n",
            "Mo Tu We Th Fr Sa Su      Mo Tu We Th Fr Sa Su      Mo Tu We Th Fr Sa Su\n",
            "                   1             1  2  3  4  5                      1  2\n",
            " 2  3  4  5  6  7  8       6  7  8  9 10 11 12       3  4  5  6  7  8  9\n",
            " 9 10 11 12 13 14 15      13 14 15 16 17 18 19      10 11 12 13 14 15 16\n",
            "16 17 18 19 20 21 22      20 21 22 23 24 25 26      17 18 19 20 21 22 23\n",
            "23 24 25 26 27 28 29      27 28 29 30 31            24 25 26 27 28 29 30\n",
            "30 31\n",
            "\n",
            "      October                   November                  December\n",
            "Mo Tu We Th Fr Sa Su      Mo Tu We Th Fr Sa Su      Mo Tu We Th Fr Sa Su\n",
            " 1  2  3  4  5  6  7                1  2  3  4                      1  2\n",
            " 8  9 10 11 12 13 14       5  6  7  8  9 10 11       3  4  5  6  7  8  9\n",
            "15 16 17 18 19 20 21      12 13 14 15 16 17 18      10 11 12 13 14 15 16\n",
            "22 23 24 25 26 27 28      19 20 21 22 23 24 25      17 18 19 20 21 22 23\n",
            "29 30 31                  26 27 28 29 30            24 25 26 27 28 29 30\n",
            "                                                    31\n",
            "\n"
          ]
        }
      ]
    },
    {
      "cell_type": "markdown",
      "metadata": {
        "id": "SJuLUUAiHvvC"
      },
      "source": [
        "\n",
        "TODO  struktury danych:\n",
        "\n",
        "xn - stan “lodówki” na początku x0 = 0\n",
        "\n",
        "yn - decyzja czy w danym dniu idziemy na zakupy\n",
        "\n",
        "n - n-ty dzień\n",
        "\n",
        "an - ograniczenie pojemności plecaka w danym dniu\n",
        "\n",
        "b - prędkość zużywania zapasów\n",
        "\n",
        "ci - tabela wagi wartościowości\n",
        "\n",
        "N - ilość dni do ustalenia terminarza\n"
      ]
    },
    {
      "cell_type": "markdown",
      "metadata": {
        "id": "LB1DrZuiWntL"
      },
      "source": [
        "## Wątpliwosci\n",
        "\n",
        "1) Czy dany produkt zużywamy w całości czy możemy zużyć tylko jego część\n"
      ]
    }
  ]
}