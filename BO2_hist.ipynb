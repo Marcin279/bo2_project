{
  "nbformat": 4,
  "nbformat_minor": 0,
  "metadata": {
    "colab": {
      "name": "BO2.ipynb",
      "provenance": [],
      "collapsed_sections": []
    },
    "kernelspec": {
      "name": "python3",
      "display_name": "Python 3"
    },
    "language_info": {
      "name": "python"
    }
  },
  "cells": [
    {
      "cell_type": "markdown",
      "metadata": {
        "id": "DYmAvdcvmxHc"
      },
      "source": [
        "# Modele - Implementacja </br>\n",
        "\n",
        "- Barbara Pobiedzińska 400781\n",
        "- Tomasz Brania 400642\n",
        "- Marcin Biela 302959 </br>\n",
        "\n",
        "Grupa 1a"
      ]
    },
    {
      "cell_type": "code",
      "metadata": {
        "id": "96Bo0vGSHjfH"
      },
      "source": [
        "import numpy as np\n",
        "import pandas as pd\n",
        "import random"
      ],
      "execution_count": 78,
      "outputs": []
    },
    {
      "cell_type": "markdown",
      "metadata": {
        "id": "SJuLUUAiHvvC"
      },
      "source": [
        "\n",
        "TODO  struktury danych:\n",
        "\n",
        "xn - stan “lodówki” na początku x0 = 0\n",
        "\n",
        "yn - decyzja czy w danym dniu idziemy na zakupy\n",
        "\n",
        "n - n-ty dzień\n",
        "\n",
        "an - ograniczenie pojemności plecaka w danym dniu\n",
        "\n",
        "b - prędkość zużywania zapasów\n",
        "\n",
        "ci - tabela wagi wartościowości\n",
        "\n",
        "N - ilość dni do ustalenia terminarza\n"
      ]
    },
    {
      "cell_type": "code",
      "metadata": {
        "id": "_3UCp4IMQfZ-"
      },
      "source": [
        "# Ograniczenia\n",
        "class lodowka():\n",
        "  poczatkowy_stan_lodowki = 0 # poczatkowy stan lodowki\n",
        "  \n",
        "  maksymalna_poj_lodowki = 10 # maksymalna ilosc produktow w lodowce\n",
        "  maks_liczba = 1 # maksymalna ilosc tego samego produktu\n",
        "  N = 365 #tbd\n",
        "  a_n = 7 # kg maksymalna pojemnosc_plecaka\n",
        "  b = 3000 # Zapotrzebowanie kaloryczne w danym dniu - w każdym dniu tyle samo\n",
        "\n",
        "  def __init__(self, terminarz, lista_produktow):\n",
        "    self.terminarz = terminarz\n",
        "    self.lista_produktow = lista_produktow\n",
        "    self.initial_solution = self.generete_initial_solution()\n",
        "    # self.aktualny_stan_lodowki = x0\n",
        "    # self.aktualne_zapotrzebowanie_kaloryczne = b\n",
        "  \n",
        "  def generete_initial_solution(self) -> np.ndarray:\n",
        "    initial_solution = []\n",
        "    self.lista_produktow = self.lista_produktow.to_numpy()\n",
        "    # print(self.lista_produktow)\n",
        "    aktualny_stan_lodowki = self.poczatkowy_stan_lodowki\n",
        "    zawartosc_lodowki = []\n",
        "    for i in range(len(self.terminarz)):\n",
        "      aktualny_stan_plecaka = 0\n",
        "      if self.terminarz[i][2] != 0:\n",
        "        teoretyczna_lista_zakupow = random.sample(range(10), 10)\n",
        "        lista_1 = [0]*len(self.lista_produktow)\n",
        "        count = 0\n",
        "        while True:\n",
        "            indeks_produktu_ktory_bierzemy = teoretyczna_lista_zakupow[count]\n",
        "            waga_produktu = self.lista_produktow[indeks_produktu_ktory_bierzemy][0]\n",
        "\n",
        "            if aktualny_stan_lodowki + 1 <= self.maksymalna_poj_lodowki and aktualny_stan_plecaka + waga_produktu <= self.a_n:\n",
        "              lista_1[indeks_produktu_ktory_bierzemy] = 1\n",
        "              zawartosc_lodowki.append(indeks_produktu_ktory_bierzemy)\n",
        "              aktualny_stan_lodowki += 1\n",
        "              aktualny_stan_plecaka += waga_produktu\n",
        "              count += 1\n",
        "            else:\n",
        "              break\n",
        "        initial_solution.append([1, lista_1 ])\n",
        "      else:\n",
        "        initial_solution.append([ 0, [] ]) \n",
        "\n",
        "      #zuzywanie produktow:\n",
        "      aktualne_zuzycie = 0 #do self.b\n",
        "      while aktualne_zuzycie < self.b:\n",
        "        print(zawartosc_lodowki)\n",
        "        jedzony_produkt = self.lista_produktow[zawartosc_lodowki.pop(0)]\n",
        "        kalorycznosc = jedzony_produkt[1]\n",
        "        aktualne_zuzycie += kalorycznosc\n",
        "        aktualny_stan_lodowki -= 1\n",
        "\n",
        "    # lista = np.random.randint(0, 10, 10)\n",
        "    # for i in range(len(initial_solution)):\n",
        "    #   if initial_solution[i][0] != 0:\n",
        "    #     for j in range(len(self.lista_produktow)):\n",
        "    #       initial_solution[i][1].append(np.random.randint(0, 2)) #ewentualnie mozna brac wiecej (randint (0, x))\n",
        "\n",
        "    # dorzucic na kazdy dzien liste produktow , uwzgledniajac ich zuzycie -> czy spelnia to zapotrzebowanie\n",
        "    return initial_solution\n",
        "\n",
        "    def check_xmax(self):\n",
        "      for i in range(len(initial_solution)):\n",
        "        if initial_solution[i][1].count(1) <= self.maksymalna_poj_lodowki - self.aktualny_stan_lodowki:\n",
        "          continue\n",
        "        else:\n",
        "          pass\n",
        "# [p1, p2, p3, p4]\n",
        "  # [1000, 1000, 2000, 500]\n",
        "## [1, [1,1,0,1], 2500-3000=-500, [] ]\n",
        "# piatek:\n",
        "## [1, [0,0,1,1], ..., []]\n",
        "# sobta:\n",
        "# [0, [0,0,0,0]]\n",
        "# poniedzialek\n",
        "# [p1, p2, p3, p4]\n",
        "  # [1000, 1000, 2000, 500]\n",
        "  # [5, 5, 10, 7]\n",
        "  # [1234] (kolejka)\n",
        "## [1, [1,0,1,1], 4000-3000=----, [p4]]\n",
        "# jezeli niedobór co do kalorycznosci\n",
        "# jezeli nadmiar co do pojemnosci plecaka -> usuwamy najmniej kaloryczny produkt\n",
        "\n",
        "\n",
        "# x0 = 0 # poczatkowy stan lodowki\n",
        "# x_max = 10 # maksymalna ilosc produktow w lodowce w danym momencie\n",
        "# x_1 = 1 # maksymalna ilosc tego samego produktu\n",
        "# N = 365 #tbd\n",
        "# a_n = 20 # kg maksymalna pojemnosc_plecaka\n",
        "# b = 3000 # Zapotrzebowanie kaloryczne w danym dniu - w każdym dniu tyle samo\n",
        "# # Zakładamy, że w niedziele nie robimy zakupów\n",
        "\n",
        "## dodane: mieisiac pierwszy\n",
        "# lista_swiat = [(1, 1), (1, 6), (5, 1), (5, 3), (8, 15), (11, 1), (11, 11), (12, 25), (12, 26)]"
      ],
      "execution_count": 79,
      "outputs": []
    },
    {
      "cell_type": "code",
      "metadata": {
        "id": "5Or4zmQhHuq3",
        "colab": {
          "base_uri": "https://localhost:8080/"
        },
        "outputId": "2e779c8c-d505-4361-92e4-1bd7cf04dfb2"
      },
      "source": [
        "#dane\n",
        "n_records = 10\n",
        "\n",
        "tabela_produktow = [f\"Produkt{i+1}\" for i in range(n_records)]\n",
        "print(tabela_produktow)\n",
        "\n",
        "# tabele zczytywac z excela c(wartociowosc od wagi od czegos dodatkowego np kalorie)\n",
        "# ograniczenie plecaka tez (czy robic funkcje ktora wylicza ktore dni sa niehandlowe (niedziele i swieta))"
      ],
      "execution_count": 80,
      "outputs": [
        {
          "output_type": "stream",
          "name": "stdout",
          "text": [
            "['Produkt1', 'Produkt2', 'Produkt3', 'Produkt4', 'Produkt5', 'Produkt6', 'Produkt7', 'Produkt8', 'Produkt9', 'Produkt10']\n"
          ]
        }
      ]
    },
    {
      "cell_type": "code",
      "metadata": {
        "colab": {
          "base_uri": "https://localhost:8080/"
        },
        "id": "0Kq-4EqHNzHD",
        "outputId": "fa355c6e-3a41-434c-949e-93590d28d26e"
      },
      "source": [
        "tabela_wartosciowosc_kalorie = np.random.randint(low=10, high=1000, size=n_records)\n",
        "tabela_wartosciowosc_przydatnosc = np.random.randint(low=0, high=2, size=n_records)\n",
        "tabela_wag = np.round(np.random.random(n_records) * 5, 2)\n",
        "\n",
        "print(tabela_wartosciowosc_kalorie)\n",
        "print(tabela_wartosciowosc_przydatnosc)\n",
        "print(tabela_wag)\n",
        "\n",
        "\n"
      ],
      "execution_count": 81,
      "outputs": [
        {
          "output_type": "stream",
          "name": "stdout",
          "text": [
            "[396 706 729  45  98  56 532 128 369 594]\n",
            "[0 0 1 1 1 0 1 1 1 1]\n",
            "[2.83 0.93 2.92 2.71 4.24 1.91 2.   4.96 3.02 4.54]\n"
          ]
        }
      ]
    },
    {
      "cell_type": "code",
      "metadata": {
        "colab": {
          "base_uri": "https://localhost:8080/",
          "height": 363
        },
        "id": "Di0PYDbfcCxf",
        "outputId": "3c41a75d-b450-4636-a3ad-116f27b2e942"
      },
      "source": [
        "tabela_merge = {}\n",
        "for i in range(len(tabela_produktow)):\n",
        "  tabela_merge[tabela_produktow[i]] = [tabela_wag[i], tabela_wartosciowosc_kalorie[i], tabela_wartosciowosc_przydatnosc[i]]\n",
        "\n",
        "# print(tabela_merge)\n",
        "\n",
        "df = pd.DataFrame(tabela_merge).transpose()\n",
        "df.rename(columns={0: \"waga\", 1: \"wartosciowosc\", 2:\"przydatnosc\"})\n"
      ],
      "execution_count": 82,
      "outputs": [
        {
          "output_type": "execute_result",
          "data": {
            "text/html": [
              "<div>\n",
              "<style scoped>\n",
              "    .dataframe tbody tr th:only-of-type {\n",
              "        vertical-align: middle;\n",
              "    }\n",
              "\n",
              "    .dataframe tbody tr th {\n",
              "        vertical-align: top;\n",
              "    }\n",
              "\n",
              "    .dataframe thead th {\n",
              "        text-align: right;\n",
              "    }\n",
              "</style>\n",
              "<table border=\"1\" class=\"dataframe\">\n",
              "  <thead>\n",
              "    <tr style=\"text-align: right;\">\n",
              "      <th></th>\n",
              "      <th>waga</th>\n",
              "      <th>wartosciowosc</th>\n",
              "      <th>przydatnosc</th>\n",
              "    </tr>\n",
              "  </thead>\n",
              "  <tbody>\n",
              "    <tr>\n",
              "      <th>Produkt1</th>\n",
              "      <td>2.83</td>\n",
              "      <td>396.0</td>\n",
              "      <td>0.0</td>\n",
              "    </tr>\n",
              "    <tr>\n",
              "      <th>Produkt2</th>\n",
              "      <td>0.93</td>\n",
              "      <td>706.0</td>\n",
              "      <td>0.0</td>\n",
              "    </tr>\n",
              "    <tr>\n",
              "      <th>Produkt3</th>\n",
              "      <td>2.92</td>\n",
              "      <td>729.0</td>\n",
              "      <td>1.0</td>\n",
              "    </tr>\n",
              "    <tr>\n",
              "      <th>Produkt4</th>\n",
              "      <td>2.71</td>\n",
              "      <td>45.0</td>\n",
              "      <td>1.0</td>\n",
              "    </tr>\n",
              "    <tr>\n",
              "      <th>Produkt5</th>\n",
              "      <td>4.24</td>\n",
              "      <td>98.0</td>\n",
              "      <td>1.0</td>\n",
              "    </tr>\n",
              "    <tr>\n",
              "      <th>Produkt6</th>\n",
              "      <td>1.91</td>\n",
              "      <td>56.0</td>\n",
              "      <td>0.0</td>\n",
              "    </tr>\n",
              "    <tr>\n",
              "      <th>Produkt7</th>\n",
              "      <td>2.00</td>\n",
              "      <td>532.0</td>\n",
              "      <td>1.0</td>\n",
              "    </tr>\n",
              "    <tr>\n",
              "      <th>Produkt8</th>\n",
              "      <td>4.96</td>\n",
              "      <td>128.0</td>\n",
              "      <td>1.0</td>\n",
              "    </tr>\n",
              "    <tr>\n",
              "      <th>Produkt9</th>\n",
              "      <td>3.02</td>\n",
              "      <td>369.0</td>\n",
              "      <td>1.0</td>\n",
              "    </tr>\n",
              "    <tr>\n",
              "      <th>Produkt10</th>\n",
              "      <td>4.54</td>\n",
              "      <td>594.0</td>\n",
              "      <td>1.0</td>\n",
              "    </tr>\n",
              "  </tbody>\n",
              "</table>\n",
              "</div>"
            ],
            "text/plain": [
              "           waga  wartosciowosc  przydatnosc\n",
              "Produkt1   2.83          396.0          0.0\n",
              "Produkt2   0.93          706.0          0.0\n",
              "Produkt3   2.92          729.0          1.0\n",
              "Produkt4   2.71           45.0          1.0\n",
              "Produkt5   4.24           98.0          1.0\n",
              "Produkt6   1.91           56.0          0.0\n",
              "Produkt7   2.00          532.0          1.0\n",
              "Produkt8   4.96          128.0          1.0\n",
              "Produkt9   3.02          369.0          1.0\n",
              "Produkt10  4.54          594.0          1.0"
            ]
          },
          "metadata": {},
          "execution_count": 82
        }
      ]
    },
    {
      "cell_type": "code",
      "metadata": {
        "colab": {
          "base_uri": "https://localhost:8080/"
        },
        "id": "mb-fotoT7BY_",
        "outputId": "65915b24-033a-4091-99b2-cf1821491b5f"
      },
      "source": [
        "df.to_numpy()"
      ],
      "execution_count": 83,
      "outputs": [
        {
          "output_type": "execute_result",
          "data": {
            "text/plain": [
              "array([[  2.83, 396.  ,   0.  ],\n",
              "       [  0.93, 706.  ,   0.  ],\n",
              "       [  2.92, 729.  ,   1.  ],\n",
              "       [  2.71,  45.  ,   1.  ],\n",
              "       [  4.24,  98.  ,   1.  ],\n",
              "       [  1.91,  56.  ,   0.  ],\n",
              "       [  2.  , 532.  ,   1.  ],\n",
              "       [  4.96, 128.  ,   1.  ],\n",
              "       [  3.02, 369.  ,   1.  ],\n",
              "       [  4.54, 594.  ,   1.  ]])"
            ]
          },
          "metadata": {},
          "execution_count": 83
        }
      ]
    },
    {
      "cell_type": "code",
      "metadata": {
        "colab": {
          "base_uri": "https://localhost:8080/"
        },
        "id": "gTo6Z4d5R0-y",
        "outputId": "c4ce814a-59ad-4c72-a878-fdb0d11e99f1"
      },
      "source": [
        "# funkcja \n",
        "import calendar\n",
        "import datetime\n",
        "\n",
        "lista_swiat = [datetime.date(2022, 1, 1),\n",
        "               datetime.date(2022, 1, 6),\n",
        "               datetime.date(2022, 4, 17),\n",
        "               datetime.date(2022, 4, 18), \n",
        "               datetime.date(2022, 5, 1),\n",
        "               datetime.date(2022, 5, 3),\n",
        "               datetime.date(2022, 6, 5),\n",
        "               datetime.date(2022, 6, 16),\n",
        "               datetime.date(2022, 7, 15),\n",
        "               datetime.date(2022, 11, 1),\n",
        "               datetime.date(2022, 11, 11),\n",
        "               datetime.date(2022, 12, 25),\n",
        "               datetime.date(2022, 12, 26)]\n",
        "\n",
        "\n",
        "def returncalendar(first_day, first_month, first_year, last_day, last_month, last_year) :\n",
        "  #doesnt include the last day -> update po dodaniu days = 1 tak\n",
        "  #lista dni iteruje od 0\n",
        "  \n",
        "  # wielkanoc_mth = input(\"Kiedy Wielkanoc: numer miesiąca\")\n",
        "  # wielkanoc_day = input(\"Kiedy Wielkanoc: numer dnia\")\n",
        "  # boze_cialo_mth = input(\"Kiedy Boże Ciało: numer miesiąca\")\n",
        "  # boze_cialo_day = input(\"Kiedy Boże Ciało: numer dnia\")\n",
        "\n",
        " # roboczo zeby nie wpisywac\n",
        "  wielkanoc_mth = 4\n",
        "  wielkanoc_day = 17\n",
        "  boze_cialo_mth = 6\n",
        "  boze_cialo_day = 16\n",
        "\n",
        "  \n",
        "  # lista_swiat_here = lista_swiat.copy()\n",
        "  # lista_swiat_here.append((int(wielkanoc_mth), int(wielkanoc_day)))\n",
        "  # lista_swiat_here.append((int(boze_cialo_mth), int(boze_cialo_day)))\n",
        "  # # print(lista_swiat_here)\n",
        "\n",
        "  # lista_swiat_here.sort()\n",
        "  # # print(lista_swiat_here)\n",
        "\n",
        "\n",
        "  vector_days = []\n",
        "\n",
        "  d0 = datetime.date(first_year, first_month, first_day)\n",
        "  d1 = datetime.date(last_year, last_month, last_day)\n",
        "\n",
        "  start_date = d0\n",
        "  end_date = d1\n",
        "  delta = datetime.timedelta(days=1)\n",
        "\n",
        "  while start_date <= end_date:\n",
        "    weight = lodowka.a_n\n",
        "    if start_date.weekday() == 6:\n",
        "      weight = 0\n",
        "    \n",
        "    if start_date in lista_swiat:\n",
        "      weight = 0  # poj plecaka\n",
        "\n",
        "    vector_days.append((start_date, start_date.weekday(), weight))\n",
        "  \n",
        "    start_date += delta\n",
        "\n",
        "  return vector_days\n",
        "\n",
        "  \n",
        "terminarz = returncalendar(3, 1, 2022, 31, 1, 2022)\n",
        "for i in range(len(terminarz)):\n",
        "  print(terminarz[i], '\\n')\n",
        "\n"
      ],
      "execution_count": 84,
      "outputs": [
        {
          "output_type": "stream",
          "name": "stdout",
          "text": [
            "(datetime.date(2022, 1, 3), 0, 7) \n",
            "\n",
            "(datetime.date(2022, 1, 4), 1, 7) \n",
            "\n",
            "(datetime.date(2022, 1, 5), 2, 7) \n",
            "\n",
            "(datetime.date(2022, 1, 6), 3, 0) \n",
            "\n",
            "(datetime.date(2022, 1, 7), 4, 7) \n",
            "\n",
            "(datetime.date(2022, 1, 8), 5, 7) \n",
            "\n",
            "(datetime.date(2022, 1, 9), 6, 0) \n",
            "\n",
            "(datetime.date(2022, 1, 10), 0, 7) \n",
            "\n",
            "(datetime.date(2022, 1, 11), 1, 7) \n",
            "\n",
            "(datetime.date(2022, 1, 12), 2, 7) \n",
            "\n",
            "(datetime.date(2022, 1, 13), 3, 7) \n",
            "\n",
            "(datetime.date(2022, 1, 14), 4, 7) \n",
            "\n",
            "(datetime.date(2022, 1, 15), 5, 7) \n",
            "\n",
            "(datetime.date(2022, 1, 16), 6, 0) \n",
            "\n",
            "(datetime.date(2022, 1, 17), 0, 7) \n",
            "\n",
            "(datetime.date(2022, 1, 18), 1, 7) \n",
            "\n",
            "(datetime.date(2022, 1, 19), 2, 7) \n",
            "\n",
            "(datetime.date(2022, 1, 20), 3, 7) \n",
            "\n",
            "(datetime.date(2022, 1, 21), 4, 7) \n",
            "\n",
            "(datetime.date(2022, 1, 22), 5, 7) \n",
            "\n",
            "(datetime.date(2022, 1, 23), 6, 0) \n",
            "\n",
            "(datetime.date(2022, 1, 24), 0, 7) \n",
            "\n",
            "(datetime.date(2022, 1, 25), 1, 7) \n",
            "\n",
            "(datetime.date(2022, 1, 26), 2, 7) \n",
            "\n",
            "(datetime.date(2022, 1, 27), 3, 7) \n",
            "\n",
            "(datetime.date(2022, 1, 28), 4, 7) \n",
            "\n",
            "(datetime.date(2022, 1, 29), 5, 7) \n",
            "\n",
            "(datetime.date(2022, 1, 30), 6, 0) \n",
            "\n",
            "(datetime.date(2022, 1, 31), 0, 7) \n",
            "\n"
          ]
        }
      ]
    },
    {
      "cell_type": "code",
      "metadata": {
        "id": "Nb4pCeYcdFAg",
        "colab": {
          "base_uri": "https://localhost:8080/"
        },
        "outputId": "e868e995-a4c7-4b53-a0dc-b509a064a779"
      },
      "source": [
        "## easter\n",
        "from dateutil.easter import *\n",
        "from datetime import timedelta\n",
        "year = 1994\n",
        "print((easter(year)))\n",
        "print((easter(year)+timedelta(60)))\n"
      ],
      "execution_count": 85,
      "outputs": [
        {
          "output_type": "stream",
          "name": "stdout",
          "text": [
            "1994-04-03\n",
            "1994-06-02\n"
          ]
        }
      ]
    },
    {
      "cell_type": "code",
      "metadata": {
        "id": "MkKAKH8JczmI"
      },
      "source": [
        "# Tabu Search\n",
        "\n",
        "# STEP 0\n",
        "\n",
        "def check(initial_solution):\n",
        "  pass\n",
        "\n",
        "\n",
        "\n",
        "# def generate_initial_solution(terminarz, lista_produktow) -> np.ndarray:\n",
        "#   initial_solution = []\n",
        "#   lista_produktow = lista_produktow.to_numpy()\n",
        "#   for i in range(len(terminarz)):\n",
        "#     if terminarz[i][2] != 0:\n",
        "#       initial_solution.append([ np.random.randint(0, 2), [] ])\n",
        "#     else:\n",
        "#       initial_solution.append([ 0, [] ]) \n",
        "\n",
        "#   for i in range(len(initial_solution)):\n",
        "#     if initial_solution[i][0] != 0:\n",
        "#       for j in range(len(lista_produktow)):\n",
        "#         initial_solution[i][1].append(np.random.randint(0, 2)) #ewentualnie mozna brac wiecej (randint (0, x))\n",
        "  \n",
        "  \n",
        "  \n",
        "#   return initial_solution\n",
        "\n",
        "# generate_initial_solution(terminarz, df)\n"
      ],
      "execution_count": 86,
      "outputs": []
    },
    {
      "cell_type": "code",
      "metadata": {
        "colab": {
          "base_uri": "https://localhost:8080/",
          "height": 398
        },
        "id": "ddxznjWLoNI1",
        "outputId": "92485ec3-0f5a-483a-9fdd-7b20a92223fa"
      },
      "source": [
        "l1 = lodowka(terminarz, df).initial_solution\n",
        "for i in range(len(l1)):\n",
        "  print(l1[i])"
      ],
      "execution_count": 87,
      "outputs": [
        {
          "output_type": "stream",
          "name": "stdout",
          "text": [
            "[4]\n",
            "[]\n"
          ]
        },
        {
          "output_type": "error",
          "ename": "IndexError",
          "evalue": "ignored",
          "traceback": [
            "\u001b[0;31m---------------------------------------------------------------------------\u001b[0m",
            "\u001b[0;31mIndexError\u001b[0m                                Traceback (most recent call last)",
            "\u001b[0;32m<ipython-input-87-722451b2fbd1>\u001b[0m in \u001b[0;36m<module>\u001b[0;34m()\u001b[0m\n\u001b[0;32m----> 1\u001b[0;31m \u001b[0ml1\u001b[0m \u001b[0;34m=\u001b[0m \u001b[0mlodowka\u001b[0m\u001b[0;34m(\u001b[0m\u001b[0mterminarz\u001b[0m\u001b[0;34m,\u001b[0m \u001b[0mdf\u001b[0m\u001b[0;34m)\u001b[0m\u001b[0;34m.\u001b[0m\u001b[0minitial_solution\u001b[0m\u001b[0;34m\u001b[0m\u001b[0;34m\u001b[0m\u001b[0m\n\u001b[0m\u001b[1;32m      2\u001b[0m \u001b[0;32mfor\u001b[0m \u001b[0mi\u001b[0m \u001b[0;32min\u001b[0m \u001b[0mrange\u001b[0m\u001b[0;34m(\u001b[0m\u001b[0mlen\u001b[0m\u001b[0;34m(\u001b[0m\u001b[0ml1\u001b[0m\u001b[0;34m)\u001b[0m\u001b[0;34m)\u001b[0m\u001b[0;34m:\u001b[0m\u001b[0;34m\u001b[0m\u001b[0;34m\u001b[0m\u001b[0m\n\u001b[1;32m      3\u001b[0m   \u001b[0mprint\u001b[0m\u001b[0;34m(\u001b[0m\u001b[0ml1\u001b[0m\u001b[0;34m[\u001b[0m\u001b[0mi\u001b[0m\u001b[0;34m]\u001b[0m\u001b[0;34m)\u001b[0m\u001b[0;34m\u001b[0m\u001b[0;34m\u001b[0m\u001b[0m\n",
            "\u001b[0;32m<ipython-input-79-acc1a3d6e73e>\u001b[0m in \u001b[0;36m__init__\u001b[0;34m(self, terminarz, lista_produktow)\u001b[0m\n\u001b[1;32m     12\u001b[0m     \u001b[0mself\u001b[0m\u001b[0;34m.\u001b[0m\u001b[0mterminarz\u001b[0m \u001b[0;34m=\u001b[0m \u001b[0mterminarz\u001b[0m\u001b[0;34m\u001b[0m\u001b[0;34m\u001b[0m\u001b[0m\n\u001b[1;32m     13\u001b[0m     \u001b[0mself\u001b[0m\u001b[0;34m.\u001b[0m\u001b[0mlista_produktow\u001b[0m \u001b[0;34m=\u001b[0m \u001b[0mlista_produktow\u001b[0m\u001b[0;34m\u001b[0m\u001b[0;34m\u001b[0m\u001b[0m\n\u001b[0;32m---> 14\u001b[0;31m     \u001b[0mself\u001b[0m\u001b[0;34m.\u001b[0m\u001b[0minitial_solution\u001b[0m \u001b[0;34m=\u001b[0m \u001b[0mself\u001b[0m\u001b[0;34m.\u001b[0m\u001b[0mgenerete_initial_solution\u001b[0m\u001b[0;34m(\u001b[0m\u001b[0;34m)\u001b[0m\u001b[0;34m\u001b[0m\u001b[0;34m\u001b[0m\u001b[0m\n\u001b[0m\u001b[1;32m     15\u001b[0m     \u001b[0;31m# self.aktualny_stan_lodowki = x0\u001b[0m\u001b[0;34m\u001b[0m\u001b[0;34m\u001b[0m\u001b[0;34m\u001b[0m\u001b[0m\n\u001b[1;32m     16\u001b[0m     \u001b[0;31m# self.aktualne_zapotrzebowanie_kaloryczne = b\u001b[0m\u001b[0;34m\u001b[0m\u001b[0;34m\u001b[0m\u001b[0;34m\u001b[0m\u001b[0m\n",
            "\u001b[0;32m<ipython-input-79-acc1a3d6e73e>\u001b[0m in \u001b[0;36mgenerete_initial_solution\u001b[0;34m(self)\u001b[0m\n\u001b[1;32m     48\u001b[0m       \u001b[0;32mwhile\u001b[0m \u001b[0maktualne_zuzycie\u001b[0m \u001b[0;34m<\u001b[0m \u001b[0mself\u001b[0m\u001b[0;34m.\u001b[0m\u001b[0mb\u001b[0m\u001b[0;34m:\u001b[0m\u001b[0;34m\u001b[0m\u001b[0;34m\u001b[0m\u001b[0m\n\u001b[1;32m     49\u001b[0m         \u001b[0mprint\u001b[0m\u001b[0;34m(\u001b[0m\u001b[0mzawartosc_lodowki\u001b[0m\u001b[0;34m)\u001b[0m\u001b[0;34m\u001b[0m\u001b[0;34m\u001b[0m\u001b[0m\n\u001b[0;32m---> 50\u001b[0;31m         \u001b[0mjedzony_produkt\u001b[0m \u001b[0;34m=\u001b[0m \u001b[0mself\u001b[0m\u001b[0;34m.\u001b[0m\u001b[0mlista_produktow\u001b[0m\u001b[0;34m[\u001b[0m\u001b[0mzawartosc_lodowki\u001b[0m\u001b[0;34m.\u001b[0m\u001b[0mpop\u001b[0m\u001b[0;34m(\u001b[0m\u001b[0;36m0\u001b[0m\u001b[0;34m)\u001b[0m\u001b[0;34m]\u001b[0m\u001b[0;34m\u001b[0m\u001b[0;34m\u001b[0m\u001b[0m\n\u001b[0m\u001b[1;32m     51\u001b[0m         \u001b[0mkalorycznosc\u001b[0m \u001b[0;34m=\u001b[0m \u001b[0mjedzony_produkt\u001b[0m\u001b[0;34m[\u001b[0m\u001b[0;36m1\u001b[0m\u001b[0;34m]\u001b[0m\u001b[0;34m\u001b[0m\u001b[0;34m\u001b[0m\u001b[0m\n\u001b[1;32m     52\u001b[0m         \u001b[0maktualne_zuzycie\u001b[0m \u001b[0;34m+=\u001b[0m \u001b[0mkalorycznosc\u001b[0m\u001b[0;34m\u001b[0m\u001b[0;34m\u001b[0m\u001b[0m\n",
            "\u001b[0;31mIndexError\u001b[0m: pop from empty list"
          ]
        }
      ]
    },
    {
      "cell_type": "markdown",
      "metadata": {
        "id": "LB1DrZuiWntL"
      },
      "source": [
        "## Wątpliwosci\n",
        "\n",
        "1) Czy dany produkt zużywamy w całości czy możemy zużyć tylko jego część\n"
      ]
    },
    {
      "cell_type": "code",
      "metadata": {
        "id": "ywbX2gc6W_wu"
      },
      "source": [
        "\n",
        "#### GARBAGE\n",
        "  # obj = calendar.Calendar()\n",
        "  # obj1 = calendar.TextCalendar()\n",
        "  # print(obj1.formatmonth(year, month))\n",
        "\n",
        "  # for day in obj.itermonthdays(year, month):\n",
        "  #   print(day)\n",
        "\n",
        "# year, month = 2017, 3\n",
        "# obj = calendar.Calendar()\n",
        "# obj1 = calendar.TextCalendar()\n",
        "# print(obj1.formatmonth(year, month))\n",
        "\n",
        "# for day in obj.itermonthdays(year, month):\n",
        "#   print(day)\n",
        "# deck = list(range(0, 10))\n",
        "# deck = list(range(1, 10001))\n",
        "# random.shuffle(deck)\n",
        "import random\n",
        "random.sample(range(10), 10)"
      ],
      "execution_count": null,
      "outputs": []
    }
  ]
}
