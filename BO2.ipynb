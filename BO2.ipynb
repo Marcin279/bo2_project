{
 "cells": [
  {
   "cell_type": "markdown",
   "metadata": {
    "id": "DYmAvdcvmxHc",
    "slideshow": {
     "slide_type": "slide"
    }
   },
   "source": [
    "# Modele - Implementacja </br></br>\n",
    "\n",
    "- Barbara Pobiedzińska 400781\n",
    "- Tomasz Brania 400642\n",
    "- Marcin Biela 302959 </br>\n",
    "\n",
    "Grupa 1a"
   ]
  },
  {
   "cell_type": "code",
   "execution_count": 1,
   "metadata": {
    "id": "96Bo0vGSHjfH",
    "slideshow": {
     "slide_type": "slide"
    }
   },
   "outputs": [],
   "source": [
    "import numpy as np\n",
    "import pandas as pd\n",
    "import calendar\n",
    "import datetime"
   ]
  },
  {
   "cell_type": "markdown",
   "metadata": {
    "id": "SJuLUUAiHvvC",
    "slideshow": {
     "slide_type": "slide"
    }
   },
   "source": [
    "\n",
    "TODO  struktury danych:\n",
    "\n",
    "xn - stan “lodówki” na początku x0 = 0\n",
    "\n",
    "yn - decyzja czy w danym dniu idziemy na zakupy\n",
    "\n",
    "n - n-ty dzień\n",
    "\n",
    "an - ograniczenie pojemności plecaka w danym dniu\n",
    "\n",
    "b - prędkość zużywania zapasów\n",
    "\n",
    "ci - tabela wagi wartościowości\n",
    "\n",
    "N - ilość dni do ustalenia terminarza\n"
   ]
  },
  {
   "cell_type": "code",
   "execution_count": 2,
   "metadata": {
    "id": "_3UCp4IMQfZ-",
    "slideshow": {
     "slide_type": "slide"
    }
   },
   "outputs": [],
   "source": [
    "# Ograniczenia\n",
    "x0 = 0 # poczatkowy stan lodowki\n",
    "x_max = 10 # maksymalna ilosc produktow w lodowce w danym momencie\n",
    "x_1 = 1 # maksymalna ilosc tego samego produktu\n",
    "N = 365 #tbd\n",
    "a_n = 20 # kg maksymalna pojemnosc_plecaka\n",
    "b = 3000 # Zapotrzebowanie kaloryczne w danym dniu - w każdym dniu tyle samo\n",
    "# Zakładamy, że w niedziele nie robimy zakupów\n",
    "\n",
    "## dodane: mieisiac pierwszy\n",
    "# lista_swiat = [(1, 1), (1, 6), (5, 1), (5, 3), (8, 15), (11, 1), (11, 11), (12, 25), (12, 26)]\n",
    "\n"
   ]
  },
  {
   "cell_type": "code",
   "execution_count": 3,
   "metadata": {
    "colab": {
     "base_uri": "https://localhost:8080/"
    },
    "id": "5Or4zmQhHuq3",
    "outputId": "a5134ce3-8496-4407-a97f-88d1d062c934",
    "slideshow": {
     "slide_type": "slide"
    }
   },
   "outputs": [
    {
     "name": "stdout",
     "output_type": "stream",
     "text": [
      "['Produkt1', 'Produkt2', 'Produkt3', 'Produkt4', 'Produkt5', 'Produkt6', 'Produkt7', 'Produkt8', 'Produkt9', 'Produkt10']\n"
     ]
    }
   ],
   "source": [
    "#dane\n",
    "n_records = 10\n",
    "\n",
    "tabela_produktow = [f\"Produkt{i+1}\" for i in range(n_records)]\n",
    "print(tabela_produktow)\n",
    "\n",
    "# tabele zczytywac z excela c(wartociowosc od wagi od czegos dodatkowego np kalorie)\n",
    "# ograniczenie plecaka tez (czy robic funkcje ktora wylicza ktore dni sa niehandlowe (niedziele i swieta))"
   ]
  },
  {
   "cell_type": "code",
   "execution_count": 4,
   "metadata": {
    "colab": {
     "base_uri": "https://localhost:8080/"
    },
    "id": "0Kq-4EqHNzHD",
    "outputId": "257d9501-adab-4bf0-9db3-e9f3f127b286",
    "slideshow": {
     "slide_type": "slide"
    }
   },
   "outputs": [
    {
     "name": "stdout",
     "output_type": "stream",
     "text": [
      "[186  20 568 430 361 719 835 610 176 548]\n",
      "[1 1 1 0 0 0 1 0 1 1]\n",
      "[3.13 2.34 1.68 0.72 4.27 1.34 0.92 3.99 2.04 4.31]\n"
     ]
    }
   ],
   "source": [
    "tabela_wartosciowosc_kalorie = np.random.randint(low=10, high=1000, size=n_records)\n",
    "tabela_wartosciowosc_przydatnosc = np.random.randint(low=0, high=2, size=n_records)\n",
    "tabela_wag = np.round(np.random.random(n_records) * 5, 2)\n",
    "\n",
    "print(tabela_wartosciowosc_kalorie)\n",
    "print(tabela_wartosciowosc_przydatnosc)\n",
    "print(tabela_wag)"
   ]
  },
  {
   "cell_type": "code",
   "execution_count": 5,
   "metadata": {
    "colab": {
     "base_uri": "https://localhost:8080/",
     "height": 363
    },
    "id": "Di0PYDbfcCxf",
    "outputId": "b4f3f534-114f-4b66-9b12-c622e503a944",
    "slideshow": {
     "slide_type": "slide"
    }
   },
   "outputs": [
    {
     "data": {
      "text/html": [
       "<div>\n",
       "<style scoped>\n",
       "    .dataframe tbody tr th:only-of-type {\n",
       "        vertical-align: middle;\n",
       "    }\n",
       "\n",
       "    .dataframe tbody tr th {\n",
       "        vertical-align: top;\n",
       "    }\n",
       "\n",
       "    .dataframe thead th {\n",
       "        text-align: right;\n",
       "    }\n",
       "</style>\n",
       "<table border=\"1\" class=\"dataframe\">\n",
       "  <thead>\n",
       "    <tr style=\"text-align: right;\">\n",
       "      <th></th>\n",
       "      <th>waga</th>\n",
       "      <th>wartosciowosc</th>\n",
       "      <th>przydatnosc</th>\n",
       "    </tr>\n",
       "  </thead>\n",
       "  <tbody>\n",
       "    <tr>\n",
       "      <th>Produkt1</th>\n",
       "      <td>3.13</td>\n",
       "      <td>186.0</td>\n",
       "      <td>1.0</td>\n",
       "    </tr>\n",
       "    <tr>\n",
       "      <th>Produkt2</th>\n",
       "      <td>2.34</td>\n",
       "      <td>20.0</td>\n",
       "      <td>1.0</td>\n",
       "    </tr>\n",
       "    <tr>\n",
       "      <th>Produkt3</th>\n",
       "      <td>1.68</td>\n",
       "      <td>568.0</td>\n",
       "      <td>1.0</td>\n",
       "    </tr>\n",
       "    <tr>\n",
       "      <th>Produkt4</th>\n",
       "      <td>0.72</td>\n",
       "      <td>430.0</td>\n",
       "      <td>0.0</td>\n",
       "    </tr>\n",
       "    <tr>\n",
       "      <th>Produkt5</th>\n",
       "      <td>4.27</td>\n",
       "      <td>361.0</td>\n",
       "      <td>0.0</td>\n",
       "    </tr>\n",
       "    <tr>\n",
       "      <th>Produkt6</th>\n",
       "      <td>1.34</td>\n",
       "      <td>719.0</td>\n",
       "      <td>0.0</td>\n",
       "    </tr>\n",
       "    <tr>\n",
       "      <th>Produkt7</th>\n",
       "      <td>0.92</td>\n",
       "      <td>835.0</td>\n",
       "      <td>1.0</td>\n",
       "    </tr>\n",
       "    <tr>\n",
       "      <th>Produkt8</th>\n",
       "      <td>3.99</td>\n",
       "      <td>610.0</td>\n",
       "      <td>0.0</td>\n",
       "    </tr>\n",
       "    <tr>\n",
       "      <th>Produkt9</th>\n",
       "      <td>2.04</td>\n",
       "      <td>176.0</td>\n",
       "      <td>1.0</td>\n",
       "    </tr>\n",
       "    <tr>\n",
       "      <th>Produkt10</th>\n",
       "      <td>4.31</td>\n",
       "      <td>548.0</td>\n",
       "      <td>1.0</td>\n",
       "    </tr>\n",
       "  </tbody>\n",
       "</table>\n",
       "</div>"
      ],
      "text/plain": [
       "           waga  wartosciowosc  przydatnosc\n",
       "Produkt1   3.13          186.0          1.0\n",
       "Produkt2   2.34           20.0          1.0\n",
       "Produkt3   1.68          568.0          1.0\n",
       "Produkt4   0.72          430.0          0.0\n",
       "Produkt5   4.27          361.0          0.0\n",
       "Produkt6   1.34          719.0          0.0\n",
       "Produkt7   0.92          835.0          1.0\n",
       "Produkt8   3.99          610.0          0.0\n",
       "Produkt9   2.04          176.0          1.0\n",
       "Produkt10  4.31          548.0          1.0"
      ]
     },
     "execution_count": 5,
     "metadata": {},
     "output_type": "execute_result"
    }
   ],
   "source": [
    "tabela_merge = {}\n",
    "for i in range(len(tabela_produktow)):\n",
    "  tabela_merge[tabela_produktow[i]] = [tabela_wag[i], tabela_wartosciowosc_kalorie[i], tabela_wartosciowosc_przydatnosc[i]]\n",
    "\n",
    "df = pd.DataFrame(tabela_merge).transpose()\n",
    "df.rename(columns={0: \"waga\", 1: \"wartosciowosc\", 2:\"przydatnosc\"})"
   ]
  },
  {
   "cell_type": "code",
   "execution_count": 6,
   "metadata": {},
   "outputs": [],
   "source": [
    "lista_swiat = [datetime.date(2022, 1, 1),\n",
    "               datetime.date(2022, 1, 6),\n",
    "               datetime.date(2022, 4, 17),\n",
    "               datetime.date(2022, 4, 18), \n",
    "               datetime.date(2022, 5, 1),\n",
    "               datetime.date(2022, 5, 3),\n",
    "               datetime.date(2022, 6, 5),\n",
    "               datetime.date(2022, 6, 16),\n",
    "               datetime.date(2022, 7, 15),\n",
    "               datetime.date(2022, 11, 1),\n",
    "               datetime.date(2022, 11, 11),\n",
    "               datetime.date(2022, 12, 25),\n",
    "               datetime.date(2022, 12, 26)]"
   ]
  },
  {
   "cell_type": "code",
   "execution_count": 7,
   "metadata": {
    "colab": {
     "base_uri": "https://localhost:8080/"
    },
    "id": "gTo6Z4d5R0-y",
    "outputId": "192dd7ff-d690-4108-82db-fedac3d18ab6",
    "slideshow": {
     "slide_type": "slide"
    }
   },
   "outputs": [],
   "source": [
    "def returncalendar(first_day, first_month, first_year, last_day, last_month, last_year) :\n",
    "  #doesnt include the last day -> update po dodaniu days = 1 tak\n",
    "  #lista dni iteruje od 0\n",
    "  \n",
    "  # wielkanoc_mth = input(\"Kiedy Wielkanoc: numer miesiąca\")\n",
    "  # wielkanoc_day = input(\"Kiedy Wielkanoc: numer dnia\")\n",
    "  # boze_cialo_mth = input(\"Kiedy Boże Ciało: numer miesiąca\")\n",
    "  # boze_cialo_day = input(\"Kiedy Boże Ciało: numer dnia\")\n",
    "\n",
    " # roboczo zeby nie wpisywac\n",
    "  wielkanoc_mth = 4\n",
    "  wielkanoc_day = 17\n",
    "  boze_cialo_mth = 6\n",
    "  boze_cialo_day = 16\n",
    "\n",
    "  \n",
    "  # lista_swiat_here = lista_swiat.copy()\n",
    "  # lista_swiat_here.append((int(wielkanoc_mth), int(wielkanoc_day)))\n",
    "  # lista_swiat_here.append((int(boze_cialo_mth), int(boze_cialo_day)))\n",
    "  # # print(lista_swiat_here)\n",
    "\n",
    "  # lista_swiat_here.sort()\n",
    "  # # print(lista_swiat_here)\n",
    "\n",
    "  vector_days = []\n",
    "\n",
    "  d0 = datetime.date(first_year, first_month, first_day)\n",
    "  d1 = datetime.date(last_year, last_month, last_day)\n",
    "  start_date = d0\n",
    "  end_date = d1\n",
    "  delta = datetime.timedelta(days=1)\n",
    "\n",
    "  while start_date <= end_date:\n",
    "    weight = a_n\n",
    "    if start_date.weekday() == 6:\n",
    "      weight = 0\n",
    "    \n",
    "    if start_date in lista_swiat:\n",
    "      weight = 0\n",
    "\n",
    "    vector_days.append((start_date, start_date.weekday(), weight))\n",
    "  \n",
    "    start_date += delta\n",
    "\n",
    "  return vector_days"
   ]
  },
  {
   "cell_type": "code",
   "execution_count": 8,
   "metadata": {},
   "outputs": [
    {
     "name": "stdout",
     "output_type": "stream",
     "text": [
      "(datetime.date(2022, 1, 1), 5, 0)\n",
      "(datetime.date(2022, 1, 2), 6, 0)\n",
      "(datetime.date(2022, 1, 3), 0, 20)\n",
      "(datetime.date(2022, 1, 4), 1, 20)\n",
      "(datetime.date(2022, 1, 5), 2, 20)\n",
      "(datetime.date(2022, 1, 6), 3, 0)\n",
      "(datetime.date(2022, 1, 7), 4, 20)\n",
      "(datetime.date(2022, 1, 8), 5, 20)\n",
      "(datetime.date(2022, 1, 9), 6, 0)\n",
      "(datetime.date(2022, 1, 10), 0, 20)\n",
      "(datetime.date(2022, 1, 11), 1, 20)\n",
      "(datetime.date(2022, 1, 12), 2, 20)\n",
      "(datetime.date(2022, 1, 13), 3, 20)\n",
      "(datetime.date(2022, 1, 14), 4, 20)\n",
      "(datetime.date(2022, 1, 15), 5, 20)\n"
     ]
    }
   ],
   "source": [
    "vect = (returncalendar(1, 1, 2022, 15, 1, 2022))\n",
    "for i in range(len(vect)):\n",
    "  print(vect[i])"
   ]
  },
  {
   "cell_type": "code",
   "execution_count": 9,
   "metadata": {
    "id": "ywbX2gc6W_wu"
   },
   "outputs": [],
   "source": [
    "#### GARBAGE\n",
    "  # obj = calendar.Calendar()\n",
    "  # obj1 = calendar.TextCalendar()\n",
    "  # print(obj1.formatmonth(year, month))\n",
    "\n",
    "  # for day in obj.itermonthdays(year, month):\n",
    "  #   print(day)\n",
    "\n",
    "# year, month = 2017, 3\n",
    "# obj = calendar.Calendar()\n",
    "# obj1 = calendar.TextCalendar()\n",
    "# print(obj1.formatmonth(year, month))\n",
    "\n",
    "# for day in obj.itermonthdays(year, month):\n",
    "#   print(day)"
   ]
  },
  {
   "cell_type": "markdown",
   "metadata": {
    "id": "LB1DrZuiWntL",
    "slideshow": {
     "slide_type": "slide"
    }
   },
   "source": [
    "## Wątpliwosci\n",
    "\n",
    "1) Czy dany produkt zużywamy w całości czy możemy zużyć tylko jego część\n"
   ]
  }
 ],
 "metadata": {
  "colab": {
   "collapsed_sections": [],
   "name": "BO2.ipynb",
   "provenance": []
  },
  "kernelspec": {
   "display_name": "Python 3",
   "language": "python",
   "name": "python3"
  },
  "language_info": {
   "codemirror_mode": {
    "name": "ipython",
    "version": 3
   },
   "file_extension": ".py",
   "mimetype": "text/x-python",
   "name": "python",
   "nbconvert_exporter": "python",
   "pygments_lexer": "ipython3",
   "version": "3.8.5"
  }
 },
 "nbformat": 4,
 "nbformat_minor": 1
}
