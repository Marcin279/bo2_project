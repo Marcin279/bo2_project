{
  "cells": [
    {
      "cell_type": "markdown",
      "metadata": {
        "id": "DYmAvdcvmxHc"
      },
      "source": [
        "# Modele - Implementacja </br>\n",
        "\n",
        "- Barbara Pobiedzińska 400781\n",
        "- Tomasz Brania 400642\n",
        "- Marcin Biela 302959 </br>\n",
        "\n",
        "Grupa 1a"
      ]
    },
    {
      "cell_type": "code",
      "metadata": {
        "id": "96Bo0vGSHjfH"
      },
      "source": [
        "import numpy as np\n",
        "import pandas as pd\n",
        "import random\n",
        "import copy"
      ],
      "execution_count": null,
      "outputs": []
    },
    {
      "cell_type": "markdown",
      "metadata": {
        "id": "SJuLUUAiHvvC"
      },
      "source": [
        "\n",
        "TODO  struktury danych:\n",
        "\n",
        "xn - stan “lodówki” na początku x0 = 0\n",
        "\n",
        "yn - decyzja czy w danym dniu idziemy na zakupy\n",
        "\n",
        "n - n-ty dzień\n",
        "\n",
        "an - ograniczenie pojemności plecaka w danym dniu\n",
        "\n",
        "b - prędkość zużywania zapasów\n",
        "\n",
        "ci - tabela wagi wartościowości\n",
        "\n",
        "N - ilość dni do ustalenia terminarza\n"
      ]
    },
    {
      "cell_type": "code",
      "metadata": {
        "id": "5Or4zmQhHuq3",
        "colab": {
          "base_uri": "https://localhost:8080/"
        },
        "outputId": "252a5255-6a3c-4db4-b7e5-74a86d88949f"
      },
      "source": [
        "#dane\n",
        "n_records = 10\n",
        "\n",
        "tabela_produktow = [f\"Produkt{i+1}\" for i in range(n_records)]\n",
        "print(tabela_produktow)\n",
        "\n",
        "# tabele zczytywac z excela c(wartociowosc od wagi od czegos dodatkowego np kalorie)\n",
        "# ograniczenie plecaka tez (czy robic funkcje ktora wylicza ktore dni sa niehandlowe (niedziele i swieta))"
      ],
      "execution_count": null,
      "outputs": [
        {
          "output_type": "stream",
          "name": "stdout",
          "text": [
            "['Produkt1', 'Produkt2', 'Produkt3', 'Produkt4', 'Produkt5', 'Produkt6', 'Produkt7', 'Produkt8', 'Produkt9', 'Produkt10']\n"
          ]
        }
      ]
    },
    {
      "cell_type": "code",
      "metadata": {
        "colab": {
          "base_uri": "https://localhost:8080/"
        },
        "id": "0Kq-4EqHNzHD",
        "outputId": "76ae1891-12be-4fe0-9d94-c2fc16200ac0"
      },
      "source": [
        "# tabela_wartosciowosc_kalorie = np.random.randint(low=400, high=1000, size=n_records)\n",
        "\n",
        "tabela_wartosciowosc_kalorie = np.round(np.random.normal(1000, 300, size=n_records))\n",
        "tabela_wartosciowosc_przydatnosc = np.random.randint(low=0, high=2, size=n_records)\n",
        "tabela_wag = np.round(np.random.random(n_records) * 3, 2)\n",
        "\n",
        "print(tabela_wartosciowosc_kalorie)\n",
        "print(tabela_wartosciowosc_przydatnosc)\n",
        "print(tabela_wag)"
      ],
      "execution_count": null,
      "outputs": [
        {
          "output_type": "stream",
          "name": "stdout",
          "text": [
            "[1742.  898. 1062.  872. 1443. 1682. 1000.  794. 1227.  692.]\n",
            "[1 0 1 0 1 0 0 1 1 1]\n",
            "[2.87 1.83 1.19 0.95 0.94 0.23 2.06 2.15 1.03 0.5 ]\n"
          ]
        }
      ]
    },
    {
      "cell_type": "code",
      "metadata": {
        "colab": {
          "base_uri": "https://localhost:8080/",
          "height": 363
        },
        "id": "Di0PYDbfcCxf",
        "outputId": "3c0333ad-29c6-41d4-83f2-42adeadd489f"
      },
      "source": [
        "tabela_merge = {}\n",
        "for i in range(len(tabela_produktow)):\n",
        "  tabela_merge[tabela_produktow[i]] = [tabela_wag[i], tabela_wartosciowosc_kalorie[i], tabela_wartosciowosc_przydatnosc[i]]\n",
        "\n",
        "# print(tabela_merge)\n",
        "\n",
        "df = pd.DataFrame(tabela_merge).transpose()\n",
        "df.rename(columns={0: \"waga\", 1: \"wartosciowosc\", 2:\"przydatnosc\"})\n"
      ],
      "execution_count": null,
      "outputs": [
        {
          "output_type": "execute_result",
          "data": {
            "text/html": [
              "<div>\n",
              "<style scoped>\n",
              "    .dataframe tbody tr th:only-of-type {\n",
              "        vertical-align: middle;\n",
              "    }\n",
              "\n",
              "    .dataframe tbody tr th {\n",
              "        vertical-align: top;\n",
              "    }\n",
              "\n",
              "    .dataframe thead th {\n",
              "        text-align: right;\n",
              "    }\n",
              "</style>\n",
              "<table border=\"1\" class=\"dataframe\">\n",
              "  <thead>\n",
              "    <tr style=\"text-align: right;\">\n",
              "      <th></th>\n",
              "      <th>waga</th>\n",
              "      <th>wartosciowosc</th>\n",
              "      <th>przydatnosc</th>\n",
              "    </tr>\n",
              "  </thead>\n",
              "  <tbody>\n",
              "    <tr>\n",
              "      <th>Produkt1</th>\n",
              "      <td>2.87</td>\n",
              "      <td>1742.0</td>\n",
              "      <td>1.0</td>\n",
              "    </tr>\n",
              "    <tr>\n",
              "      <th>Produkt2</th>\n",
              "      <td>1.83</td>\n",
              "      <td>898.0</td>\n",
              "      <td>0.0</td>\n",
              "    </tr>\n",
              "    <tr>\n",
              "      <th>Produkt3</th>\n",
              "      <td>1.19</td>\n",
              "      <td>1062.0</td>\n",
              "      <td>1.0</td>\n",
              "    </tr>\n",
              "    <tr>\n",
              "      <th>Produkt4</th>\n",
              "      <td>0.95</td>\n",
              "      <td>872.0</td>\n",
              "      <td>0.0</td>\n",
              "    </tr>\n",
              "    <tr>\n",
              "      <th>Produkt5</th>\n",
              "      <td>0.94</td>\n",
              "      <td>1443.0</td>\n",
              "      <td>1.0</td>\n",
              "    </tr>\n",
              "    <tr>\n",
              "      <th>Produkt6</th>\n",
              "      <td>0.23</td>\n",
              "      <td>1682.0</td>\n",
              "      <td>0.0</td>\n",
              "    </tr>\n",
              "    <tr>\n",
              "      <th>Produkt7</th>\n",
              "      <td>2.06</td>\n",
              "      <td>1000.0</td>\n",
              "      <td>0.0</td>\n",
              "    </tr>\n",
              "    <tr>\n",
              "      <th>Produkt8</th>\n",
              "      <td>2.15</td>\n",
              "      <td>794.0</td>\n",
              "      <td>1.0</td>\n",
              "    </tr>\n",
              "    <tr>\n",
              "      <th>Produkt9</th>\n",
              "      <td>1.03</td>\n",
              "      <td>1227.0</td>\n",
              "      <td>1.0</td>\n",
              "    </tr>\n",
              "    <tr>\n",
              "      <th>Produkt10</th>\n",
              "      <td>0.50</td>\n",
              "      <td>692.0</td>\n",
              "      <td>1.0</td>\n",
              "    </tr>\n",
              "  </tbody>\n",
              "</table>\n",
              "</div>"
            ],
            "text/plain": [
              "           waga  wartosciowosc  przydatnosc\n",
              "Produkt1   2.87         1742.0          1.0\n",
              "Produkt2   1.83          898.0          0.0\n",
              "Produkt3   1.19         1062.0          1.0\n",
              "Produkt4   0.95          872.0          0.0\n",
              "Produkt5   0.94         1443.0          1.0\n",
              "Produkt6   0.23         1682.0          0.0\n",
              "Produkt7   2.06         1000.0          0.0\n",
              "Produkt8   2.15          794.0          1.0\n",
              "Produkt9   1.03         1227.0          1.0\n",
              "Produkt10  0.50          692.0          1.0"
            ]
          },
          "metadata": {},
          "execution_count": 494
        }
      ]
    },
    {
      "cell_type": "code",
      "metadata": {
        "colab": {
          "base_uri": "https://localhost:8080/"
        },
        "id": "gTo6Z4d5R0-y",
        "outputId": "5b6490cb-b52d-429e-8de6-ceed55b6cce7"
      },
      "source": [
        "# funkcja \n",
        "import calendar\n",
        "import datetime\n",
        "\n",
        "lista_swiat = [datetime.date(2022, 1, 1),\n",
        "               datetime.date(2022, 1, 6),\n",
        "               datetime.date(2022, 4, 17),\n",
        "               datetime.date(2022, 4, 18), \n",
        "               datetime.date(2022, 5, 1),\n",
        "               datetime.date(2022, 5, 3),\n",
        "               datetime.date(2022, 6, 5),\n",
        "               datetime.date(2022, 6, 16),\n",
        "               datetime.date(2022, 7, 15),\n",
        "               datetime.date(2022, 11, 1),\n",
        "               datetime.date(2022, 11, 11),\n",
        "               datetime.date(2022, 12, 25),\n",
        "               datetime.date(2022, 12, 26)]\n",
        "\n",
        "\n",
        "def returncalendar(first_day, first_month, first_year, last_day, last_month, last_year) :\n",
        "  #doesnt include the last day -> update po dodaniu days = 1 tak\n",
        "  #lista dni iteruje od 0\n",
        "  \n",
        "  # wielkanoc_mth = input(\"Kiedy Wielkanoc: numer miesiąca\")\n",
        "  # wielkanoc_day = input(\"Kiedy Wielkanoc: numer dnia\")\n",
        "  # boze_cialo_mth = input(\"Kiedy Boże Ciało: numer miesiąca\")\n",
        "  # boze_cialo_day = input(\"Kiedy Boże Ciało: numer dnia\")\n",
        "\n",
        " # roboczo zeby nie wpisywac\n",
        "  wielkanoc_mth = 4\n",
        "  wielkanoc_day = 17\n",
        "  boze_cialo_mth = 6\n",
        "  boze_cialo_day = 16\n",
        "\n",
        "  \n",
        "  # lista_swiat_here = lista_swiat.copy()\n",
        "  # lista_swiat_here.append((int(wielkanoc_mth), int(wielkanoc_day)))\n",
        "  # lista_swiat_here.append((int(boze_cialo_mth), int(boze_cialo_day)))\n",
        "  # # print(lista_swiat_here)\n",
        "\n",
        "  # lista_swiat_here.sort()\n",
        "  # # print(lista_swiat_here)\n",
        "\n",
        "\n",
        "  vector_days = []\n",
        "\n",
        "  d0 = datetime.date(first_year, first_month, first_day)\n",
        "  d1 = datetime.date(last_year, last_month, last_day)\n",
        "\n",
        "  start_date = d0\n",
        "  end_date = d1\n",
        "  delta = datetime.timedelta(days=1)\n",
        "\n",
        "  while start_date <= end_date:\n",
        "    weight = lodowka.a_n\n",
        "    if start_date.weekday() == 6:\n",
        "      weight = 0\n",
        "    \n",
        "    if start_date in lista_swiat:\n",
        "      weight = 0  # poj plecaka\n",
        "\n",
        "    vector_days.append((start_date, start_date.weekday(), weight))\n",
        "  \n",
        "    start_date += delta\n",
        "\n",
        "  return vector_days\n",
        "\n",
        "  \n",
        "terminarz = returncalendar(3, 1, 2022, 31, 1, 2022)\n",
        "for i in range(len(terminarz)):\n",
        "  print(terminarz[i], '\\n')\n",
        "\n"
      ],
      "execution_count": null,
      "outputs": [
        {
          "output_type": "stream",
          "name": "stdout",
          "text": [
            "(datetime.date(2022, 1, 3), 0, 7) \n",
            "\n",
            "(datetime.date(2022, 1, 4), 1, 7) \n",
            "\n",
            "(datetime.date(2022, 1, 5), 2, 7) \n",
            "\n",
            "(datetime.date(2022, 1, 6), 3, 0) \n",
            "\n",
            "(datetime.date(2022, 1, 7), 4, 7) \n",
            "\n",
            "(datetime.date(2022, 1, 8), 5, 7) \n",
            "\n",
            "(datetime.date(2022, 1, 9), 6, 0) \n",
            "\n",
            "(datetime.date(2022, 1, 10), 0, 7) \n",
            "\n",
            "(datetime.date(2022, 1, 11), 1, 7) \n",
            "\n",
            "(datetime.date(2022, 1, 12), 2, 7) \n",
            "\n",
            "(datetime.date(2022, 1, 13), 3, 7) \n",
            "\n",
            "(datetime.date(2022, 1, 14), 4, 7) \n",
            "\n",
            "(datetime.date(2022, 1, 15), 5, 7) \n",
            "\n",
            "(datetime.date(2022, 1, 16), 6, 0) \n",
            "\n",
            "(datetime.date(2022, 1, 17), 0, 7) \n",
            "\n",
            "(datetime.date(2022, 1, 18), 1, 7) \n",
            "\n",
            "(datetime.date(2022, 1, 19), 2, 7) \n",
            "\n",
            "(datetime.date(2022, 1, 20), 3, 7) \n",
            "\n",
            "(datetime.date(2022, 1, 21), 4, 7) \n",
            "\n",
            "(datetime.date(2022, 1, 22), 5, 7) \n",
            "\n",
            "(datetime.date(2022, 1, 23), 6, 0) \n",
            "\n",
            "(datetime.date(2022, 1, 24), 0, 7) \n",
            "\n",
            "(datetime.date(2022, 1, 25), 1, 7) \n",
            "\n",
            "(datetime.date(2022, 1, 26), 2, 7) \n",
            "\n",
            "(datetime.date(2022, 1, 27), 3, 7) \n",
            "\n",
            "(datetime.date(2022, 1, 28), 4, 7) \n",
            "\n",
            "(datetime.date(2022, 1, 29), 5, 7) \n",
            "\n",
            "(datetime.date(2022, 1, 30), 6, 0) \n",
            "\n",
            "(datetime.date(2022, 1, 31), 0, 7) \n",
            "\n"
          ]
        }
      ]
    },
    {
      "cell_type": "code",
      "metadata": {
        "colab": {
          "base_uri": "https://localhost:8080/"
        },
        "id": "mb-fotoT7BY_",
        "outputId": "01009b05-c79a-4b9d-f1d1-fef77f802821"
      },
      "source": [
        "df.to_numpy()"
      ],
      "execution_count": null,
      "outputs": [
        {
          "output_type": "execute_result",
          "data": {
            "text/plain": [
              "array([[2.870e+00, 1.742e+03, 1.000e+00],\n",
              "       [1.830e+00, 8.980e+02, 0.000e+00],\n",
              "       [1.190e+00, 1.062e+03, 1.000e+00],\n",
              "       [9.500e-01, 8.720e+02, 0.000e+00],\n",
              "       [9.400e-01, 1.443e+03, 1.000e+00],\n",
              "       [2.300e-01, 1.682e+03, 0.000e+00],\n",
              "       [2.060e+00, 1.000e+03, 0.000e+00],\n",
              "       [2.150e+00, 7.940e+02, 1.000e+00],\n",
              "       [1.030e+00, 1.227e+03, 1.000e+00],\n",
              "       [5.000e-01, 6.920e+02, 1.000e+00]])"
            ]
          },
          "metadata": {},
          "execution_count": 495
        }
      ]
    },
    {
      "cell_type": "code",
      "metadata": {
        "id": "_3UCp4IMQfZ-"
      },
      "source": [
        "# Ograniczenia\n",
        "class lodowka():\n",
        "  poczatkowy_stan_lodowki = 0 # poczatkowy stan lodowki\n",
        "  \n",
        "  maksymalna_poj_lodowki = 10 # maksymalna ilosc produktow w lodowce\n",
        "  maks_liczba = 1 # maksymalna ilosc tego samego produktu\n",
        "  N = 365 #tbd\n",
        "  a_n = 7 # kg maksymalna pojemnosc_plecaka\n",
        "  b = 3000 # Zapotrzebowanie kaloryczne w danym dniu - w każdym dniu tyle samo\n",
        "\n",
        "  def __init__(self, terminarz, lista_produktow):\n",
        "    \"\"\"\n",
        "    parameters:\n",
        "    terminarz - Przechowuje informacje w postaci (data, dzien_tygodnia, maksymalna_dopuszczalna_waga)\n",
        "    jeżeli maksymalna_dopuszczalna_waga = 0 wtedy w danym dniu nie idziemy do sklepu w przeciwnym wypadku jest równe a_n\n",
        "    \n",
        "    lista produktow - przechowuje informacja w postaci np.ndarray, gdzie pierwsze \n",
        "\n",
        "    initial_solution przyjmuje to co zwraca metoda generate_initial_solution()\n",
        "    \"\"\"\n",
        "    self.terminarz = terminarz\n",
        "    self.lista_produktow = lista_produktow\n",
        "    self.initial_solution = self.generete_initial_solution()\n",
        "    # self.aktualny_stan_lodowki = x0\n",
        "    # self.aktualne_zapotrzebowanie_kaloryczne = b\n",
        "  \n",
        "  def generete_initial_solution(self) -> np.ndarray:\n",
        "    \"\"\"\n",
        "    Returns: \n",
        "    initial_solution (list): Rozwiązanie początkowe, baza do kolejnych kroków.\n",
        "    Przykładowe elementy listy:\n",
        "    [1, [0, 0, 1, 0, 0, 1, 0, 1, 1, 1], 0]\n",
        "    [0, [0, 0, 0, 0, 0, 0, 0, 0, 0, 0], -19.0]\n",
        "    gdzie:  initial_solution[i][0]: decyzja o pójściu na zakupy\n",
        "            initial_solution[i][1]: lista wziętych produktów\n",
        "            initial_solution[i][2]: bilans kalorii\n",
        "    \n",
        "    \"\"\"\n",
        "    initial_solution = []  # Rozwiązanie początkowe\n",
        "    self.lista_produktow = self.lista_produktow.to_numpy()\n",
        "    aktualny_stan_lodowki = self.poczatkowy_stan_lodowki\n",
        "    zawartosc_lodowki = []\n",
        "    for i in range(len(self.terminarz)):\n",
        "      aktualny_stan_plecaka = 0\n",
        "      if self.terminarz[i][2] != 0:\n",
        "        teoretyczna_lista_zakupow = random.sample(range(10), 10)\n",
        "        lista_1 = [0]*len(self.lista_produktow)\n",
        "        count = 0\n",
        "        while True:\n",
        "            indeks_produktu_ktory_bierzemy = teoretyczna_lista_zakupow[count]\n",
        "            waga_produktu = self.lista_produktow[indeks_produktu_ktory_bierzemy][0]\n",
        "\n",
        "            if aktualny_stan_lodowki + 1 <= self.maksymalna_poj_lodowki and aktualny_stan_plecaka + waga_produktu <= self.a_n:\n",
        "              lista_1[indeks_produktu_ktory_bierzemy] = 1\n",
        "              zawartosc_lodowki.append(indeks_produktu_ktory_bierzemy)\n",
        "              aktualny_stan_lodowki += 1\n",
        "              aktualny_stan_plecaka += waga_produktu\n",
        "              count += 1\n",
        "            else:\n",
        "              break\n",
        "\n",
        "        initial_solution.append([1, lista_1 , 0])\n",
        "      else:\n",
        "        initial_solution.append([ 0, [0]*len(self.lista_produktow) , 0]) \n",
        "\n",
        "      #zuzywanie produktow:\n",
        "      aktualne_zuzycie = 0 #do self.b\n",
        "      while aktualne_zuzycie < self.b:\n",
        "        if (len(zawartosc_lodowki)) > 0:\n",
        "          jedzony_produkt = self.lista_produktow[zawartosc_lodowki.pop(0)]\n",
        "          kalorycznosc = jedzony_produkt[1]\n",
        "          aktualne_zuzycie += kalorycznosc\n",
        "          aktualny_stan_lodowki -= 1\n",
        "        else:\n",
        "          initial_solution[i][2] = aktualne_zuzycie - self.b\n",
        "          break\n",
        "\n",
        "      \n",
        "\n",
        "    # lista = np.random.randint(0, 10, 10)\n",
        "    # for i in range(len(initial_solution)):\n",
        "    #   if initial_solution[i][0] != 0:\n",
        "    #     for j in range(len(self.lista_produktow)):\n",
        "    #       initial_solution[i][1].append(np.random.randint(0, 2)) #ewentualnie mozna brac wiecej (randint (0, x))\n",
        "\n",
        "    # dorzucic na kazdy dzien liste produktow , uwzgledniajac ich zuzycie -> czy spelnia to zapotrzebowanie\n",
        "    return initial_solution\n",
        "\n",
        "  def check_kalorie(self):\n",
        "    \"\"\"\n",
        "    Metoda sprawdza czy produkty, które w danym dniu wybraliśmy spełniają nasze\n",
        "    ograniczenie dotyczące zapotrzebowania dziennego na kalorie.\n",
        "\n",
        "    Jeśli niedobor w danym dniu czyli (suma kaloryczności poszczególnych\n",
        "    produktów) - (zapotrzebowanie dzienne) <  0 to wtedy wybieramy produkty o\n",
        "    najmniejszej możliwej wadze dopóki niedobór będzie większy od 0.\n",
        "    note: w tym momencie nie sprawdzamy czy po dadaniu produktu przekroczyliśmy \n",
        "    maksymalna dopuszczalna pojemnosc plecaka a_n\n",
        "    \"\"\"\n",
        "    for i in range(len(self.initial_solution)):\n",
        "      if self.initial_solution[i][2] < 0: # jeśli niedobor jest mniejszy od 0\n",
        "        self.initial_solution[i][0] = 1 #trzeba bedzie pojsc na zakupy\n",
        "        lista_zakupow = self.initial_solution[i][1]\n",
        "        stan_plecaka = 0\n",
        "        produkty_do_wziecia = copy.deepcopy(self.lista_produktow)\n",
        "        for j in range(len(lista_zakupow)):\n",
        "          stan_plecaka += lista_zakupow[j]*self.lista_produktow[j][0]\n",
        "          if lista_zakupow[j] == 1: # Bierzemy dany produkt jeśli 1\n",
        "            produkty_do_wziecia[j][0] = self.a_n+1 # Zabronione przejscie\n",
        "        \n",
        "        # tym kroku spradzamy ponownie czy po wybraniu w pierwszej turze \n",
        "        # x produktów i ich sumaryczna kaloryczność < zapotrzebowanie dzienne\n",
        "        # to wtedy bierzemy n produktów o najmniejszej możliwej dopuszczalnej\n",
        "        # masie tak aby sumaryczna_kalorycznosć >= zapotrzebowanie_dzienne\n",
        "        niedobor = self.initial_solution[i][2]\n",
        "        while niedobor < 0:  \n",
        "          min_waga = np.min(produkty_do_wziecia[:, 0])\n",
        "          itemindex = np.where(produkty_do_wziecia[:, 0]==min_waga)[0][0]\n",
        "          self.initial_solution[i][1][itemindex] = 1\n",
        "          niedobor += produkty_do_wziecia[itemindex][1]\n",
        "          produkty_do_wziecia[itemindex][0] = self.a_n+1\n",
        "        self.initial_solution[i][2] = 0\n",
        "      else:\n",
        "        continue\n",
        "\n",
        "\n",
        "# [p1, p2, p3, p4]\n",
        "  # [1000, 1000, 2000, 500]\n",
        "## [1, [1,1,0,1], 2500-3000=-500, [] ]\n",
        "# piatek:\n",
        "## [1, [0,0,1,1], ..., []]\n",
        "# sobta:\n",
        "# [0, [0,0,0,0]]\n",
        "# poniedzialek\n",
        "# [p1, p2, p3, p4]\n",
        "  # [1000, 1000, 2000, 500]\n",
        "  # [5, 5, 10, 7]\n",
        "  # [1234] (kolejka)\n",
        "## [1, [1,0,1,1], 4000-3000=----, [p4]]\n",
        "# jezeli niedobór co do kalorycznosci\n",
        "# jezeli nadmiar co do pojemnosci plecaka -> usuwamy najmniej kaloryczny produkt\n",
        "\n",
        "\n",
        "# x0 = 0 # poczatkowy stan lodowki\n",
        "# x_max = 10 # maksymalna ilosc produktow w lodowce w danym momencie\n",
        "# x_1 = 1 # maksymalna ilosc tego samego produktu\n",
        "# N = 365 #tbd\n",
        "# a_n = 20 # kg maksymalna pojemnosc_plecaka\n",
        "# b = 3000 # Zapotrzebowanie kaloryczne w danym dniu - w każdym dniu tyle samo\n",
        "# # Zakładamy, że w niedziele nie robimy zakupów\n",
        "\n",
        "## dodane: mieisiac pierwszy\n",
        "# lista_swiat = [(1, 1), (1, 6), (5, 1), (5, 3), (8, 15), (11, 1), (11, 11), (12, 25), (12, 26)]\n",
        "# 1, 3, 2 - spełnia\n",
        "# 1, 2 - spełnia > 3000"
      ],
      "execution_count": null,
      "outputs": []
    },
    {
      "cell_type": "code",
      "metadata": {
        "id": "Nb4pCeYcdFAg",
        "colab": {
          "base_uri": "https://localhost:8080/"
        },
        "outputId": "59f6a61f-ba33-4cfa-94d7-a4c822e41d76"
      },
      "source": [
        "## easter\n",
        "from dateutil.easter import *\n",
        "from datetime import timedelta\n",
        "year = 1994\n",
        "print((easter(year)))\n",
        "print((easter(year)+timedelta(60)))\n"
      ],
      "execution_count": null,
      "outputs": [
        {
          "output_type": "stream",
          "name": "stdout",
          "text": [
            "1994-04-03\n",
            "1994-06-02\n"
          ]
        }
      ]
    },
    {
      "cell_type": "code",
      "metadata": {
        "colab": {
          "base_uri": "https://localhost:8080/"
        },
        "id": "ddxznjWLoNI1",
        "outputId": "7c1107dc-1a64-4a38-e8fc-34ab00d3fa92"
      },
      "source": [
        "l1 = lodowka(terminarz, df)\n",
        "for i in range(len(l1.initial_solution)):\n",
        "  print(l1.initial_solution[i])\n",
        "l1.check_kalorie()\n",
        "print('\\n')\n",
        "for i in range(len(l1.initial_solution)):\n",
        "  print(l1.initial_solution[i])"
      ],
      "execution_count": null,
      "outputs": [
        {
          "output_type": "stream",
          "name": "stdout",
          "text": [
            "[1, [0, 1, 0, 0, 0, 1, 1, 1, 0, 0], 0]\n",
            "[1, [1, 1, 0, 1, 0, 0, 0, 0, 1, 0], 0]\n",
            "[1, [0, 0, 1, 0, 0, 1, 0, 1, 1, 1], 0]\n",
            "[0, [0, 0, 0, 0, 0, 0, 0, 0, 0, 0], -19.0]\n",
            "[1, [0, 0, 0, 0, 1, 1, 1, 1, 1, 1], 0]\n",
            "[1, [1, 1, 1, 0, 0, 0, 0, 0, 0, 1], 0]\n",
            "[0, [0, 0, 0, 0, 0, 0, 0, 0, 0, 0], 0]\n",
            "[1, [0, 1, 0, 1, 1, 0, 0, 1, 1, 0], 0]\n",
            "[1, [1, 1, 0, 0, 0, 1, 0, 0, 1, 0], 0]\n",
            "[1, [0, 1, 1, 1, 1, 0, 0, 0, 0, 1], 0]\n",
            "[1, [0, 0, 1, 0, 1, 1, 1, 0, 0, 1], 0]\n",
            "[1, [1, 0, 1, 0, 0, 0, 1, 0, 0, 0], 0]\n",
            "[1, [1, 0, 0, 1, 0, 0, 1, 0, 0, 1], 0]\n",
            "[0, [0, 0, 0, 0, 0, 0, 0, 0, 0, 0], 0]\n",
            "[1, [1, 0, 0, 1, 1, 0, 0, 0, 0, 1], 0]\n",
            "[1, [1, 0, 1, 1, 0, 1, 0, 0, 1, 0], 0]\n",
            "[1, [0, 0, 0, 0, 0, 0, 1, 1, 0, 0], 0]\n",
            "[1, [0, 0, 0, 0, 0, 1, 1, 0, 1, 1], 0]\n",
            "[1, [0, 0, 1, 0, 0, 0, 1, 1, 0, 0], 0]\n",
            "[1, [0, 0, 1, 0, 1, 0, 0, 0, 1, 0], 0]\n",
            "[0, [0, 0, 0, 0, 0, 0, 0, 0, 0, 0], 0]\n",
            "[1, [0, 0, 0, 0, 1, 1, 1, 1, 0, 1], 0]\n",
            "[1, [1, 1, 0, 0, 1, 1, 0, 0, 0, 1], 0]\n",
            "[1, [0, 0, 0, 1, 0, 0, 1, 1, 0, 0], 0]\n",
            "[1, [0, 1, 0, 1, 0, 0, 0, 0, 1, 0], 0]\n",
            "[1, [0, 0, 0, 0, 0, 1, 1, 0, 0, 1], 0]\n",
            "[1, [0, 0, 0, 0, 1, 1, 0, 0, 1, 0], 0]\n",
            "[0, [0, 0, 0, 0, 0, 0, 0, 0, 0, 0], 0]\n",
            "[1, [1, 1, 0, 0, 0, 0, 0, 1, 0, 0], 0]\n",
            "\n",
            "\n",
            "[1, [0, 1, 0, 0, 0, 1, 1, 1, 0, 0], 0]\n",
            "[1, [1, 1, 0, 1, 0, 0, 0, 0, 1, 0], 0]\n",
            "[1, [0, 0, 1, 0, 0, 1, 0, 1, 1, 1], 0]\n",
            "[1, [0, 0, 0, 0, 0, 1, 0, 0, 0, 0], 0]\n",
            "[1, [0, 0, 0, 0, 1, 1, 1, 1, 1, 1], 0]\n",
            "[1, [1, 1, 1, 0, 0, 0, 0, 0, 0, 1], 0]\n",
            "[0, [0, 0, 0, 0, 0, 0, 0, 0, 0, 0], 0]\n",
            "[1, [0, 1, 0, 1, 1, 0, 0, 1, 1, 0], 0]\n",
            "[1, [1, 1, 0, 0, 0, 1, 0, 0, 1, 0], 0]\n",
            "[1, [0, 1, 1, 1, 1, 0, 0, 0, 0, 1], 0]\n",
            "[1, [0, 0, 1, 0, 1, 1, 1, 0, 0, 1], 0]\n",
            "[1, [1, 0, 1, 0, 0, 0, 1, 0, 0, 0], 0]\n",
            "[1, [1, 0, 0, 1, 0, 0, 1, 0, 0, 1], 0]\n",
            "[0, [0, 0, 0, 0, 0, 0, 0, 0, 0, 0], 0]\n",
            "[1, [1, 0, 0, 1, 1, 0, 0, 0, 0, 1], 0]\n",
            "[1, [1, 0, 1, 1, 0, 1, 0, 0, 1, 0], 0]\n",
            "[1, [0, 0, 0, 0, 0, 0, 1, 1, 0, 0], 0]\n",
            "[1, [0, 0, 0, 0, 0, 1, 1, 0, 1, 1], 0]\n",
            "[1, [0, 0, 1, 0, 0, 0, 1, 1, 0, 0], 0]\n",
            "[1, [0, 0, 1, 0, 1, 0, 0, 0, 1, 0], 0]\n",
            "[0, [0, 0, 0, 0, 0, 0, 0, 0, 0, 0], 0]\n",
            "[1, [0, 0, 0, 0, 1, 1, 1, 1, 0, 1], 0]\n",
            "[1, [1, 1, 0, 0, 1, 1, 0, 0, 0, 1], 0]\n",
            "[1, [0, 0, 0, 1, 0, 0, 1, 1, 0, 0], 0]\n",
            "[1, [0, 1, 0, 1, 0, 0, 0, 0, 1, 0], 0]\n",
            "[1, [0, 0, 0, 0, 0, 1, 1, 0, 0, 1], 0]\n",
            "[1, [0, 0, 0, 0, 1, 1, 0, 0, 1, 0], 0]\n",
            "[0, [0, 0, 0, 0, 0, 0, 0, 0, 0, 0], 0]\n",
            "[1, [1, 1, 0, 0, 0, 0, 0, 1, 0, 0], 0]\n"
          ]
        }
      ]
    },
    {
      "cell_type": "code",
      "metadata": {
        "id": "MkKAKH8JczmI"
      },
      "source": [
        "# Tabu Search\n",
        "\n",
        "# STEP 0\n",
        "\n",
        "# def generate_initial_solution(terminarz, lista_produktow) -> np.ndarray:\n",
        "#   initial_solution = []\n",
        "#   lista_produktow = lista_produktow.to_numpy()\n",
        "#   for i in range(len(terminarz)):\n",
        "#     if terminarz[i][2] != 0:\n",
        "#       initial_solution.append([ np.random.randint(0, 2), [] ])\n",
        "#     else:\n",
        "#       initial_solution.append([ 0, [] ]) \n",
        "\n",
        "#   for i in range(len(initial_solution)):\n",
        "#     if initial_solution[i][0] != 0:\n",
        "#       for j in range(len(lista_produktow)):\n",
        "#         initial_solution[i][1].append(np.random.randint(0, 2)) #ewentualnie mozna brac wiecej (randint (0, x))\n",
        "  \n",
        "  \n",
        "  \n",
        "#   return initial_solution\n",
        "\n",
        "# generate_initial_solution(terminarz, df)\n"
      ],
      "execution_count": null,
      "outputs": []
    },
    {
      "cell_type": "markdown",
      "metadata": {
        "id": "LB1DrZuiWntL"
      },
      "source": [
        "## Wątpliwosci\n",
        "\n",
        "1) Czy dany produkt zużywamy w całości czy możemy zużyć tylko jego część -> Zakładamy, ze dany produkt zużywamy w całości jeśli jego kalorycznosc przewyzsza dzienne_zapotrzebowanie to ta kaloryczność jest tracona\n"
      ]
    },
    {
      "cell_type": "code",
      "metadata": {
        "id": "ywbX2gc6W_wu",
        "colab": {
          "base_uri": "https://localhost:8080/"
        },
        "outputId": "2030db8d-7302-48cd-a606-f606585ec7d3"
      },
      "source": [
        "\n",
        "#### GARBAGE\n",
        "  # obj = calendar.Calendar()\n",
        "  # obj1 = calendar.TextCalendar()\n",
        "  # print(obj1.formatmonth(year, month))\n",
        "\n",
        "  # for day in obj.itermonthdays(year, month):\n",
        "  #   print(day)\n",
        "\n",
        "# year, month = 2017, 3\n",
        "# obj = calendar.Calendar()\n",
        "# obj1 = calendar.TextCalendar()\n",
        "# print(obj1.formatmonth(year, month))\n",
        "\n",
        "# for day in obj.itermonthdays(year, month):\n",
        "#   print(day)\n",
        "# deck = list(range(0, 10))\n",
        "# deck = list(range(1, 10001))\n",
        "# random.shuffle(deck)\n",
        "import random\n",
        "random.sample(range(10), 10)"
      ],
      "execution_count": null,
      "outputs": [
        {
          "output_type": "execute_result",
          "data": {
            "text/plain": [
              "[2, 3, 9, 6, 7, 8, 0, 1, 4, 5]"
            ]
          },
          "metadata": {},
          "execution_count": 500
        }
      ]
    }
  ],
  "metadata": {
    "colab": {
      "name": "BO2.ipynb",
      "provenance": [],
      "collapsed_sections": []
    },
    "kernelspec": {
      "name": "python3",
      "display_name": "Python 3"
    },
    "language_info": {
      "name": "python"
    }
  },
  "nbformat": 4,
  "nbformat_minor": 0
}